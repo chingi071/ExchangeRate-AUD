{
 "cells": [
  {
   "cell_type": "code",
   "execution_count": 1,
   "metadata": {},
   "outputs": [],
   "source": [
    "from selenium import webdriver\n",
    "from selenium.webdriver.support.ui import Select\n",
    "from bs4 import BeautifulSoup as bs\n",
    "import requests\n",
    "import time\n",
    "import pandas as pd\n",
    "from datetime import datetime, timedelta"
   ]
  },
  {
   "cell_type": "code",
   "execution_count": 3,
   "metadata": {},
   "outputs": [
    {
     "name": "stderr",
     "output_type": "stream",
     "text": [
      "C:\\Users\\joyle\\Anaconda3\\envs\\tensorflow\\lib\\site-packages\\selenium\\webdriver\\phantomjs\\webdriver.py:49: UserWarning: Selenium support for PhantomJS has been deprecated, please use headless versions of Chrome or Firefox instead\n",
      "  warnings.warn('Selenium support for PhantomJS has been deprecated, please use headless '\n"
     ]
    }
   ],
   "source": [
    "browser = webdriver.PhantomJS('C:/Users/joyle/Anaconda3/Scripts/phantomjs.exe')\n",
    "\n",
    "browser.get('https://news.ltn.com.tw/search?keyword=')"
   ]
  },
  {
   "cell_type": "code",
   "execution_count": 4,
   "metadata": {},
   "outputs": [],
   "source": [
    "browser.find_element_by_id('keyword_search').send_keys(\"澳幣\")\n",
    "SYear = Select(browser.find_element_by_id('SYear'))\n",
    "SYear.select_by_value(\"2016\")\n",
    "\n",
    "SMonth = Select(browser.find_element_by_id('SMonth'))\n",
    "SMonth.select_by_value(\"1\")\n",
    "\n",
    "SDay = Select(browser.find_element_by_id('SDay'))\n",
    "SDay.select_by_value(\"1\")\n",
    "\n",
    "EYear = Select(browser.find_element_by_id('EYear'))\n",
    "EYear.select_by_value(\"2016\")\n",
    "\n",
    "EMonth = Select(browser.find_element_by_id('EMonth'))\n",
    "EMonth.select_by_value(\"3\")\n",
    "\n",
    "EDay = Select(browser.find_element_by_id('EDay'))\n",
    "EDay.select_by_value(\"31\")\n",
    "\n",
    "browser.find_element_by_xpath('/html/body/div[3]/section/div[3]/div[2]/form/input').click()\n",
    "\n",
    "# browser.save_screenshot('news1.png')\n"
   ]
  },
  {
   "cell_type": "code",
   "execution_count": 5,
   "metadata": {},
   "outputs": [],
   "source": [
    "page_source = bs(browser.page_source,'html.parser')\n",
    "\n",
    "page = page_source.find_all('center')[0]\n",
    "\n",
    "if len(page.select('.p_last')):\n",
    "        page = page.select('.p_last')[0]\n",
    "        page = int(page['href'][-1])\n",
    "else:\n",
    "    page = 1"
   ]
  },
  {
   "cell_type": "code",
   "execution_count": 6,
   "metadata": {},
   "outputs": [
    {
     "data": {
      "text/plain": [
       "2"
      ]
     },
     "execution_count": 6,
     "metadata": {},
     "output_type": "execute_result"
    }
   ],
   "source": [
    "page"
   ]
  },
  {
   "cell_type": "code",
   "execution_count": 7,
   "metadata": {},
   "outputs": [],
   "source": [
    "title = []\n",
    "url = []"
   ]
  },
  {
   "cell_type": "code",
   "execution_count": 8,
   "metadata": {},
   "outputs": [],
   "source": [
    "for p in range(page):\n",
    "    soup = bs(browser.page_source,'html.parser')\n",
    "\n",
    "    for ele in range(len(soup.select('#newslistul li a.tit'))):\n",
    "        title.append(soup.select('#newslistul li a.tit')[ele].text.strip('\\n'))\n",
    "        url.append(soup.select('#newslistul li a.tit')[ele]['href'])\n",
    "        time.sleep(3)\n",
    "\n",
    "    # 若是爬完本頁title及網址，則按下一頁\n",
    "    if p < page-1 :\n",
    "        browser.find_element_by_class_name('p_next').click()\n",
    "        time.sleep(3)"
   ]
  },
  {
   "cell_type": "code",
   "execution_count": 9,
   "metadata": {},
   "outputs": [],
   "source": [
    "browser.quit() "
   ]
  },
  {
   "cell_type": "code",
   "execution_count": 10,
   "metadata": {},
   "outputs": [
    {
     "data": {
      "text/plain": [
       "['澳洲少女金援IS   恐重判25年',\n",
       " '房產、汽車全登記給太太 「大仁哥」自己揹房貸',\n",
       " 'Fed高「鴿」 台幣強升2.44角',\n",
       " '央行徵「雜幣」清算行',\n",
       " '大起大落 澳最年輕富翁5年敗光350 億',\n",
       " '撕爛才知是假的！  澳洲偽鈔連銀行都被騙',\n",
       " '《中英對照讀新聞》Chinese buyer for Australia’s largest dairy farm business 中國買家收購澳洲最大乳品企業',\n",
       " '澳洲破獲胸墊藏冰毒 市價高達302億',\n",
       " '我沒死！女子現身自己葬禮 嚇壞買凶殺妻老公',\n",
       " '羊年台幣匯率重貶5.61％ 14年最慘',\n",
       " '防學生午餐買速食 學校花百萬蓋鐵欄',\n",
       " '網球》澳網6冠還不夠  喬帥鎖定法網紅土最後甜點',\n",
       " '喬帥強壓穆雷 笑吻澳網第6冠',\n",
       " '澳網》球王喬帥直落3挫「英國希望」 創紀錄6度封王',\n",
       " '澳網爆冷 柯珀扳倒小威封后',\n",
       " '喬帥痛擊費爸 澳網第6冠聽牌',\n",
       " '划船橫渡太平洋 英國四姝寫歷史',\n",
       " '吳忠明澳洲街頭演唱 慘遭強國大媽攻擊',\n",
       " '大世界小葉片 荷伯特的小蒼蠅',\n",
       " '澳網》威薇大戰 小威讚刁鑽 小薇：被電很榮幸',\n",
       " '日圓強升打臉財長 謝金河：「接刀」民眾都賺錢！',\n",
       " '亞幣續貶  匯豐銀估：澳幣中期看好',\n",
       " '集保推跨境保管業務有成 首季標的上看200檔']"
      ]
     },
     "execution_count": 10,
     "metadata": {},
     "output_type": "execute_result"
    }
   ],
   "source": [
    "title"
   ]
  },
  {
   "cell_type": "code",
   "execution_count": 11,
   "metadata": {},
   "outputs": [
    {
     "data": {
      "text/plain": [
       "['news/world/breakingnews/1641683',\n",
       " 'news/politics/breakingnews/1640152',\n",
       " 'news/business/paper/969508',\n",
       " 'news/business/paper/969117',\n",
       " 'news/world/paper/964376',\n",
       " 'news/world/breakingnews/1616291',\n",
       " 'news/world/paper/962901',\n",
       " 'news/world/paper/958210',\n",
       " 'news/world/breakingnews/1598299',\n",
       " 'news/business/paper/956759',\n",
       " 'news/world/breakingnews/1593203',\n",
       " 'news/sports/breakingnews/1591415',\n",
       " 'news/sports/paper/954870',\n",
       " 'news/sports/breakingnews/1590734',\n",
       " 'news/focus/paper/954560',\n",
       " 'news/sports/paper/953807',\n",
       " 'news/world/paper/952556',\n",
       " 'news/entertainment/paper/952326',\n",
       " 'news/supplement/paper/951373',\n",
       " 'news/sports/paper/951002',\n",
       " 'news/business/breakingnews/1570668',\n",
       " 'news/business/breakingnews/1569317',\n",
       " 'news/business/breakingnews/1569315']"
      ]
     },
     "execution_count": 11,
     "metadata": {},
     "output_type": "execute_result"
    }
   ],
   "source": [
    "url"
   ]
  },
  {
   "cell_type": "code",
   "execution_count": null,
   "metadata": {},
   "outputs": [],
   "source": []
  }
 ],
 "metadata": {
  "kernelspec": {
   "display_name": "Python 3",
   "language": "python",
   "name": "python3"
  },
  "language_info": {
   "codemirror_mode": {
    "name": "ipython",
    "version": 3
   },
   "file_extension": ".py",
   "mimetype": "text/x-python",
   "name": "python",
   "nbconvert_exporter": "python",
   "pygments_lexer": "ipython3",
   "version": "3.5.4"
  }
 },
 "nbformat": 4,
 "nbformat_minor": 2
}
