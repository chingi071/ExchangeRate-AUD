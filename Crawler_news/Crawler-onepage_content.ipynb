{
 "cells": [
  {
   "cell_type": "code",
   "execution_count": 1,
   "metadata": {},
   "outputs": [],
   "source": [
    "from selenium import webdriver\n",
    "from selenium.webdriver.support.ui import Select\n",
    "from bs4 import BeautifulSoup as bs\n",
    "import requests\n",
    "import time\n",
    "import pandas as pd\n",
    "from datetime import datetime, timedelta"
   ]
  },
  {
   "cell_type": "code",
   "execution_count": 6,
   "metadata": {},
   "outputs": [],
   "source": [
    "all_title = []\n",
    "date = []\n",
    "content = []\n",
    "\n",
    "# 使用假header\n",
    "headers = {'user-agent': 'Mozilla/5.0 (Windows NT 6.1) AppleWebKit/537.36 (KHTML, like Gecko) Chrome/52.0.2743.116 Safari/537.36'}\n",
    "\n",
    "urls = 'https://ec.ltn.com.tw/article/paper/969508'\n",
    "web_data = requests.get(urls, headers=headers)\n",
    "web_data.encoding = 'utf-8'\n",
    "soup = bs(web_data.text,'html.parser')"
   ]
  },
  {
   "cell_type": "code",
   "execution_count": 7,
   "metadata": {},
   "outputs": [],
   "source": [
    "# 標題\n",
    "data_title = soup.title.text\n",
    "all_title.append(data_title)\n",
    "time.sleep(1)\n",
    "\n",
    "# 日期\n",
    "if len(soup.select('.text span')):\n",
    "    data_date = soup.select('.text span')[0].text\n",
    "    data_date = data_date.strip()\n",
    "    data_date = pd.to_datetime(data_date)\n",
    "    data_date = data_date.date()\n",
    "    date.append(data_date)\n",
    "\n",
    "elif len(soup.select('.c_time')):\n",
    "    data_date = soup.select('.c_time')[0].text\n",
    "    data_date = data_date.strip()\n",
    "    data_date = pd.to_datetime(data_date)\n",
    "    data_date = data_date.date()\n",
    "    date.append(data_date)\n",
    "    \n",
    "elif len(soup.select('.date')):\n",
    "    data_date = soup.select('.date')[0].text\n",
    "    data_date = data_date.strip()\n",
    "    data_date = pd.to_datetime(data_date)\n",
    "    data_date = data_date.date()\n",
    "    date.append(data_date)\n",
    "\n",
    "elif len(soup.select('.writer_date')):\n",
    "    data_date = soup.select('.writer_date')[0].text\n",
    "    data_date = data_date.strip()\n",
    "    data_date = pd.to_datetime(data_date)\n",
    "    data_date = data_date.date()\n",
    "    date.append(data_date)\n",
    "\n",
    "elif len(soup.select('.viewtime')):\n",
    "    data_date = soup.select('.viewtime')[0].text\n",
    "    data_date = data_date.strip()\n",
    "    data_date = pd.to_datetime(data_date)\n",
    "    data_date = data_date.date()\n",
    "    date.append(data_date)\n",
    "    \n",
    "else:\n",
    "    print('date:',u)\n",
    "\n",
    "time.sleep(1)\n",
    "\n",
    "# 內文\n",
    "one_sentence = []\n",
    "\n",
    "if len(soup.select('.text p')):\n",
    "    for i in range(len(soup.select('.text p'))):\n",
    "        # 搜集\"還想看更多新聞嗎？\"前的所有文字\n",
    "        if soup.select('.text p')[i].text != soup.select('.appE1121')[0].text :\n",
    "            one_sentence.append(soup.select('.text p')[i].text)\n",
    "        else :\n",
    "            break\n",
    "\n",
    "elif len(soup.select('.cont p')):\n",
    "    for i in range(len(soup.select('.cont p'))):\n",
    "        # 搜集\"還想看更多新聞嗎？\"前的所有文字\n",
    "        if soup.select('.cont p')[i].text != soup.select('.appE1121')[0].text :\n",
    "            one_sentence.append(soup.select('.cont p')[i].text)\n",
    "        else :\n",
    "            break\n",
    "\n",
    "elif len(soup.select('.news_p p')):\n",
    "    for i in range(len(soup.select('.news_p p'))):\n",
    "        # 搜集\"還想看更多新聞嗎？\"前的所有文字\n",
    "        if soup.select('.news_p p')[i].text != soup.select('.appE1121')[0].text :\n",
    "            one_sentence.append(soup.select('.news_p p')[i].text)\n",
    "        else :\n",
    "            break\n",
    "        \n",
    "else :\n",
    "    print('content:',u)\n",
    "\n",
    "# 把同一篇的句子合併\n",
    "sentence = ''.join(one_sentence)\n",
    "content.append(sentence)\n",
    "\n",
    "time.sleep(3)\n"
   ]
  },
  {
   "cell_type": "code",
   "execution_count": 11,
   "metadata": {},
   "outputs": [
    {
     "data": {
      "text/plain": [
       "['Fed高「鴿」 台幣強升2.44角 | 自由財經']"
      ]
     },
     "execution_count": 11,
     "metadata": {},
     "output_type": "execute_result"
    }
   ],
   "source": [
    "all_title"
   ]
  },
  {
   "cell_type": "code",
   "execution_count": 9,
   "metadata": {},
   "outputs": [
    {
     "data": {
      "text/plain": [
       "[datetime.date(2016, 3, 18)]"
      ]
     },
     "execution_count": 9,
     "metadata": {},
     "output_type": "execute_result"
    }
   ],
   "source": [
    "date"
   ]
  },
  {
   "cell_type": "code",
   "execution_count": 10,
   "metadata": {},
   "outputs": [
    {
     "data": {
      "text/plain": [
       "['國際美元昨幾乎全面崩跌，亞幣也大漲。\\x08（美聯社）〔記者盧冠誠／台北報導〕美國聯準會（Fed）展現「鴿派」立場，國際熱錢猶如嗜血鯊魚瘋狂湧入，新台幣匯率再度搭上升值特快車，昨最高一度勁揚4.5角至32.5元大關。雖然中央銀行尾盤依慣例進場調節，但新台幣終場仍強升2.44角，創5個多月最大單日升幅，以32.706元兌1美元作收，創近4個月新高，台北及元太外匯經紀公司總成交量亦放大至17.25億美元。國際美元昨幾乎全面崩跌，全球主要貨幣中，以澳幣大漲2.34％居冠，韓元、日圓、歐元、印尼盾、星幣等皆有1％以上升幅，新台幣則為0.75％。「我也在找眼鏡！」外匯交易員說，Fed展現比預期更加鴿派的態度，跌破眾人眼鏡。這波資金行情沒這麼快結束，新台幣若升破32.5元，恐怕很快就會朝32元整數關卡靠攏。匯銀主管表示，外資3月以來大舉湧入，帶動台灣金融市場股、匯雙漲，估計外資昨匯入即超過6億美元（約新台幣200億元）。國際清算銀行公布最新統計，新台幣2月實質有效匯率指數（REER）升至100.16，但韓元REER則降為105.39，台灣出口價格競爭力雖連續32個月優於主要競爭對手南韓，不過兩者差距逐漸縮小。BIS計算REER基期為2010年，REER較低，代表「價格競爭能力」較強；匯銀主管指出，隨著台、韓REER拉近，在不樂見新台幣過度強勢的情況下，預估老大（央行）未來調節力道會越來越強勁，以提振疲弱的出口表現。']"
      ]
     },
     "execution_count": 10,
     "metadata": {},
     "output_type": "execute_result"
    }
   ],
   "source": [
    "content"
   ]
  },
  {
   "cell_type": "code",
   "execution_count": null,
   "metadata": {},
   "outputs": [],
   "source": []
  }
 ],
 "metadata": {
  "kernelspec": {
   "display_name": "Python 3",
   "language": "python",
   "name": "python3"
  },
  "language_info": {
   "codemirror_mode": {
    "name": "ipython",
    "version": 3
   },
   "file_extension": ".py",
   "mimetype": "text/x-python",
   "name": "python",
   "nbconvert_exporter": "python",
   "pygments_lexer": "ipython3",
   "version": "3.5.4"
  }
 },
 "nbformat": 4,
 "nbformat_minor": 2
}
