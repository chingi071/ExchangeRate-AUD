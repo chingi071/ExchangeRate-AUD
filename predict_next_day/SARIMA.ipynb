{
 "cells": [
  {
   "cell_type": "code",
   "execution_count": 1,
   "metadata": {},
   "outputs": [],
   "source": [
    "import pandas as pd\n",
    "import numpy as np\n",
    "import matplotlib.pyplot as plt  #畫圖形\n",
    "import math\n",
    "from datetime import datetime, timedelta\n",
    "import statsmodels.api as sm   #statsmodels用於估計許多不同統計模型的類和函數\n",
    "from statsmodels.graphics.tsaplots import acf,pacf,plot_acf,plot_pacf  # acf和pacf展示庫\n",
    "from statsmodels.tsa.seasonal import seasonal_decompose\n",
    "import statsmodels.tsa.stattools as st\n",
    "from statsmodels.tsa.arima_model import ARIMA  # 導入ARIMA模型\n",
    "import time"
   ]
  },
  {
   "cell_type": "code",
   "execution_count": 16,
   "metadata": {},
   "outputs": [],
   "source": [
    "def sort_data(Data):\n",
    "    d = Data[\"Date\"]\n",
    "    d = pd.to_datetime(d)\n",
    "\n",
    "    data = Data[\"Price\"]\n",
    "    data.index = pd.Index(d)\n",
    "\n",
    "    return data\n",
    "\n",
    "def missing_value():\n",
    "    SAT = pd.date_range(start = '01/01/2016', end = '03/31/2019', freq='W-SAT')\n",
    "\n",
    "    SUN = pd.date_range(start = '01/01/2016', end = '05/31/2018', freq='W-SUN')\n",
    "\n",
    "    s1 = pd.Series([np.nan]*len(SAT) ,index=SAT)\n",
    "    s2 = pd.Series([np.nan]*len(SUN) ,index=SUN)\n",
    "    \n",
    "    return s1, s2\n",
    "    \n",
    "def supplement_data(data):\n",
    "    s1, s2 = missing_value()\n",
    "    \n",
    "    data = data.append(s1)\n",
    "    data = data.append(s2)\n",
    "    \n",
    "    data.sort_index(inplace=True)\n",
    "    \n",
    "    for j in range(len(data)):\n",
    "        null_value = data[data.isnull().values == True]\n",
    "        if len(null_value) != 0:\n",
    "            for i in range(len(null_value)):\n",
    "                if math.isnan(data[null_value.index[i]+timedelta(-1)]) == False:\n",
    "                    if math.isnan(data[null_value.index[i]+timedelta(1)]) == False: \n",
    "                        data[null_value.index[i]] = (data[null_value.index[i]+timedelta(-1)]+data[null_value.index[i]+timedelta(1)])/2\n",
    "            data = data.fillna(method = 'ffill', limit = 1)\n",
    "            data = data.fillna(method = 'bfill', limit = 1)            \n",
    "        else:\n",
    "            break\n",
    "            \n",
    "    return data\n",
    "\n",
    "def split(data):\n",
    "    train = data[:'2019-01-01']    \n",
    "    true = data['2019-01-01':]\n",
    "    \n",
    "    return train, true\n",
    "\n",
    "def data_set(Data):\n",
    "    data = sort_data(Data)\n",
    "    data = supplement_data(data)\n",
    "    train, true_data = split(data)\n",
    "    \n",
    "    return data, train, true_data\n",
    "\n",
    "def decomp(train):\n",
    "    decomposition = seasonal_decompose(train, freq=7, two_sided=False)\n",
    "    \n",
    "    trend = decomposition.trend\n",
    "    trend.dropna(inplace=True)\n",
    "    seasonal = decomposition.seasonal\n",
    "    residual = decomposition.resid\n",
    "    residual.dropna(inplace=True)\n",
    "    \n",
    "    return decomposition, trend, seasonal, residual\n",
    "\n",
    "def model(x, order):\n",
    "    model = ARIMA(x, order=order)  # ARIMA的參數: order = p, d, q\n",
    "    results_ARIMA = model.fit(disp=-1,method = 'mle')\n",
    "    predict_data = results_ARIMA.predict(start='2019-01-01', end='2019-03-31', dynamic = False) \n",
    "    \n",
    "    return predict_data\n",
    "\n",
    "def predict(predict_t, predict_r):\n",
    "    s = []\n",
    "    for i in range(90):\n",
    "        mean_s = seasonal[seasonal.index.time[i]].mean()\n",
    "        s.append(mean_s)\n",
    "    \n",
    "    predicted_data = predict_t + s + predict_r\n",
    "\n",
    "    return predicted_data\n",
    "    \n",
    "def plot_data(true_data, predicted_data):\n",
    "    plt.figure(figsize=(12,6))\n",
    "    plt.plot(predicted_data.index, true_data, color = 'cornflowerblue', marker = 'o', label='True')\n",
    "    plt.plot(predicted_data.index, predicted_data, color = 'lightcoral', marker = 'o', label='Predict')\n",
    "    plt.legend()\n",
    "    plt.show()\n",
    "    "
   ]
  },
  {
   "cell_type": "code",
   "execution_count": 17,
   "metadata": {},
   "outputs": [],
   "source": [
    "#drop value\n",
    "SAT = pd.date_range(start = '01/01/2019', end = '03/31/2019', freq='W-SAT')   \n",
    "\n",
    "Data = pd.read_excel(\"c:/python/AUD-USD/AUD_USD.xlsx\",index_col=False)\n",
    "data, train, true_data = data_set(Data)\n",
    "decomposition, trend, seasonal, residual = decomp(train)"
   ]
  },
  {
   "cell_type": "code",
   "execution_count": 18,
   "metadata": {},
   "outputs": [
    {
     "name": "stderr",
     "output_type": "stream",
     "text": [
      "C:\\Users\\joyle\\Anaconda3\\envs\\tensorflow\\lib\\site-packages\\statsmodels\\tsa\\base\\tsa_model.py:171: ValueWarning: No frequency information was provided, so inferred frequency D will be used.\n",
      "  % freq, ValueWarning)\n",
      "C:\\Users\\joyle\\Anaconda3\\envs\\tensorflow\\lib\\site-packages\\statsmodels\\tsa\\base\\tsa_model.py:171: ValueWarning: No frequency information was provided, so inferred frequency D will be used.\n",
      "  % freq, ValueWarning)\n"
     ]
    },
    {
     "name": "stdout",
     "output_type": "stream",
     "text": [
      "2.991443395614624\n"
     ]
    }
   ],
   "source": [
    "start = time.time()\n",
    "predict_t = model(trend, (1,0,6))\n",
    "predict_r = model(residual, (2,0,1))\n",
    "predicted_data = predict(predict_t, predict_r)\n",
    "end = time.time()\n",
    "running_time = end-start\n",
    "print(running_time)\n",
    "\n",
    "predicted_data = predicted_data.drop(SAT)\n",
    "\n",
    "true_data = true_data.drop(SAT)\n",
    "\n",
    "RMSE = np.sqrt(((predicted_data-true_data)**2).sum()/true_data.size)\n",
    "MAPE = abs((true_data-predicted_data)/true_data).sum()/len(true_data)"
   ]
  },
  {
   "cell_type": "code",
   "execution_count": 10,
   "metadata": {},
   "outputs": [
    {
     "data": {
      "text/plain": [
       "0.012372568906090906"
      ]
     },
     "execution_count": 10,
     "metadata": {},
     "output_type": "execute_result"
    }
   ],
   "source": [
    "RMSE"
   ]
  },
  {
   "cell_type": "code",
   "execution_count": 14,
   "metadata": {},
   "outputs": [
    {
     "data": {
      "text/plain": [
       "0.015221880816382698"
      ]
     },
     "execution_count": 14,
     "metadata": {},
     "output_type": "execute_result"
    }
   ],
   "source": [
    "MAPE"
   ]
  },
  {
   "cell_type": "code",
   "execution_count": 15,
   "metadata": {},
   "outputs": [
    {
     "data": {
      "image/png": "[encoded data removed]",
      "text/plain": [
       "<matplotlib.figure.Figure at 0x1b46f4c4780>"
      ]
     },
     "metadata": {},
     "output_type": "display_data"
    }
   ],
   "source": [
    "plot_data(true_data , predicted_data)"
   ]
  },
  {
   "cell_type": "code",
   "execution_count": 16,
   "metadata": {},
   "outputs": [],
   "source": [
    "predicted_data.to_csv('c:/python/AUD-USD/predict_rate/sarima.csv', encoding = 'utf_8_sig')"
   ]
  },
  {
   "cell_type": "code",
   "execution_count": 7,
   "metadata": {},
   "outputs": [
    {
     "name": "stderr",
     "output_type": "stream",
     "text": [
      "C:\\Users\\joyle\\Anaconda3\\envs\\tensorflow\\lib\\site-packages\\statsmodels\\tsa\\base\\tsa_model.py:171: ValueWarning: No frequency information was provided, so inferred frequency D will be used.\n",
      "  % freq, ValueWarning)\n",
      "C:\\Users\\joyle\\Anaconda3\\envs\\tensorflow\\lib\\site-packages\\scipy\\signal\\signaltools.py:1333: FutureWarning: Using a non-tuple sequence for multidimensional indexing is deprecated; use `arr[tuple(seq)]` instead of `arr[seq]`. In the future this will be interpreted as an array index, `arr[np.array(seq)]`, which will result either in an error or a different result.\n",
      "  out_full[ind] += zi\n",
      "C:\\Users\\joyle\\Anaconda3\\envs\\tensorflow\\lib\\site-packages\\scipy\\signal\\signaltools.py:1336: FutureWarning: Using a non-tuple sequence for multidimensional indexing is deprecated; use `arr[tuple(seq)]` instead of `arr[seq]`. In the future this will be interpreted as an array index, `arr[np.array(seq)]`, which will result either in an error or a different result.\n",
      "  out = out_full[ind]\n",
      "C:\\Users\\joyle\\Anaconda3\\envs\\tensorflow\\lib\\site-packages\\scipy\\signal\\signaltools.py:1342: FutureWarning: Using a non-tuple sequence for multidimensional indexing is deprecated; use `arr[tuple(seq)]` instead of `arr[seq]`. In the future this will be interpreted as an array index, `arr[np.array(seq)]`, which will result either in an error or a different result.\n",
      "  zf = out_full[ind]\n",
      "C:\\Users\\joyle\\Anaconda3\\envs\\tensorflow\\lib\\site-packages\\statsmodels\\tsa\\base\\tsa_model.py:171: ValueWarning: No frequency information was provided, so inferred frequency D will be used.\n",
      "  % freq, ValueWarning)\n",
      "C:\\Users\\joyle\\Anaconda3\\envs\\tensorflow\\lib\\site-packages\\statsmodels\\tsa\\base\\tsa_model.py:171: ValueWarning: No frequency information was provided, so inferred frequency D will be used.\n",
      "  % freq, ValueWarning)\n",
      "C:\\Users\\joyle\\Anaconda3\\envs\\tensorflow\\lib\\site-packages\\statsmodels\\tsa\\base\\tsa_model.py:171: ValueWarning: No frequency information was provided, so inferred frequency D will be used.\n",
      "  % freq, ValueWarning)\n",
      "C:\\Users\\joyle\\Anaconda3\\envs\\tensorflow\\lib\\site-packages\\statsmodels\\tsa\\base\\tsa_model.py:171: ValueWarning: No frequency information was provided, so inferred frequency D will be used.\n",
      "  % freq, ValueWarning)\n",
      "C:\\Users\\joyle\\Anaconda3\\envs\\tensorflow\\lib\\site-packages\\statsmodels\\tsa\\base\\tsa_model.py:171: ValueWarning: No frequency information was provided, so inferred frequency D will be used.\n",
      "  % freq, ValueWarning)\n",
      "C:\\Users\\joyle\\Anaconda3\\envs\\tensorflow\\lib\\site-packages\\statsmodels\\tsa\\base\\tsa_model.py:171: ValueWarning: No frequency information was provided, so inferred frequency D will be used.\n",
      "  % freq, ValueWarning)\n",
      "C:\\Users\\joyle\\Anaconda3\\envs\\tensorflow\\lib\\site-packages\\statsmodels\\tsa\\base\\tsa_model.py:171: ValueWarning: No frequency information was provided, so inferred frequency D will be used.\n",
      "  % freq, ValueWarning)\n",
      "C:\\Users\\joyle\\Anaconda3\\envs\\tensorflow\\lib\\site-packages\\statsmodels\\tsa\\base\\tsa_model.py:171: ValueWarning: No frequency information was provided, so inferred frequency D will be used.\n",
      "  % freq, ValueWarning)\n",
      "C:\\Users\\joyle\\Anaconda3\\envs\\tensorflow\\lib\\site-packages\\statsmodels\\tsa\\base\\tsa_model.py:171: ValueWarning: No frequency information was provided, so inferred frequency D will be used.\n",
      "  % freq, ValueWarning)\n",
      "C:\\Users\\joyle\\Anaconda3\\envs\\tensorflow\\lib\\site-packages\\statsmodels\\tsa\\base\\tsa_model.py:171: ValueWarning: No frequency information was provided, so inferred frequency D will be used.\n",
      "  % freq, ValueWarning)\n",
      "C:\\Users\\joyle\\Anaconda3\\envs\\tensorflow\\lib\\site-packages\\statsmodels\\tsa\\base\\tsa_model.py:171: ValueWarning: No frequency information was provided, so inferred frequency D will be used.\n",
      "  % freq, ValueWarning)\n",
      "C:\\Users\\joyle\\Anaconda3\\envs\\tensorflow\\lib\\site-packages\\statsmodels\\base\\model.py:488: HessianInversionWarning: Inverting hessian failed, no bse or cov_params available\n",
      "  'available', HessianInversionWarning)\n",
      "C:\\Users\\joyle\\Anaconda3\\envs\\tensorflow\\lib\\site-packages\\statsmodels\\base\\model.py:508: ConvergenceWarning: Maximum Likelihood optimization failed to converge. Check mle_retvals\n",
      "  \"Check mle_retvals\", ConvergenceWarning)\n",
      "C:\\Users\\joyle\\Anaconda3\\envs\\tensorflow\\lib\\site-packages\\statsmodels\\tsa\\base\\tsa_model.py:171: ValueWarning: No frequency information was provided, so inferred frequency D will be used.\n",
      "  % freq, ValueWarning)\n",
      "C:\\Users\\joyle\\Anaconda3\\envs\\tensorflow\\lib\\site-packages\\statsmodels\\tsa\\base\\tsa_model.py:171: ValueWarning: No frequency information was provided, so inferred frequency D will be used.\n",
      "  % freq, ValueWarning)\n",
      "C:\\Users\\joyle\\Anaconda3\\envs\\tensorflow\\lib\\site-packages\\statsmodels\\tsa\\base\\tsa_model.py:171: ValueWarning: No frequency information was provided, so inferred frequency D will be used.\n",
      "  % freq, ValueWarning)\n",
      "C:\\Users\\joyle\\Anaconda3\\envs\\tensorflow\\lib\\site-packages\\statsmodels\\tsa\\base\\tsa_model.py:171: ValueWarning: No frequency information was provided, so inferred frequency D will be used.\n",
      "  % freq, ValueWarning)\n",
      "C:\\Users\\joyle\\Anaconda3\\envs\\tensorflow\\lib\\site-packages\\statsmodels\\base\\model.py:488: HessianInversionWarning: Inverting hessian failed, no bse or cov_params available\n",
      "  'available', HessianInversionWarning)\n",
      "C:\\Users\\joyle\\Anaconda3\\envs\\tensorflow\\lib\\site-packages\\statsmodels\\tsa\\base\\tsa_model.py:171: ValueWarning: No frequency information was provided, so inferred frequency D will be used.\n",
      "  % freq, ValueWarning)\n",
      "C:\\Users\\joyle\\Anaconda3\\envs\\tensorflow\\lib\\site-packages\\statsmodels\\tsa\\base\\tsa_model.py:171: ValueWarning: No frequency information was provided, so inferred frequency D will be used.\n",
      "  % freq, ValueWarning)\n",
      "C:\\Users\\joyle\\Anaconda3\\envs\\tensorflow\\lib\\site-packages\\statsmodels\\tsa\\base\\tsa_model.py:171: ValueWarning: No frequency information was provided, so inferred frequency D will be used.\n",
      "  % freq, ValueWarning)\n",
      "C:\\Users\\joyle\\Anaconda3\\envs\\tensorflow\\lib\\site-packages\\statsmodels\\tsa\\base\\tsa_model.py:171: ValueWarning: No frequency information was provided, so inferred frequency D will be used.\n",
      "  % freq, ValueWarning)\n",
      "C:\\Users\\joyle\\Anaconda3\\envs\\tensorflow\\lib\\site-packages\\statsmodels\\tsa\\base\\tsa_model.py:171: ValueWarning: No frequency information was provided, so inferred frequency D will be used.\n",
      "  % freq, ValueWarning)\n",
      "C:\\Users\\joyle\\Anaconda3\\envs\\tensorflow\\lib\\site-packages\\statsmodels\\tsa\\base\\tsa_model.py:171: ValueWarning: No frequency information was provided, so inferred frequency D will be used.\n",
      "  % freq, ValueWarning)\n",
      "C:\\Users\\joyle\\Anaconda3\\envs\\tensorflow\\lib\\site-packages\\statsmodels\\tsa\\base\\tsa_model.py:171: ValueWarning: No frequency information was provided, so inferred frequency D will be used.\n",
      "  % freq, ValueWarning)\n",
      "C:\\Users\\joyle\\Anaconda3\\envs\\tensorflow\\lib\\site-packages\\statsmodels\\tsa\\base\\tsa_model.py:171: ValueWarning: No frequency information was provided, so inferred frequency D will be used.\n",
      "  % freq, ValueWarning)\n",
      "C:\\Users\\joyle\\Anaconda3\\envs\\tensorflow\\lib\\site-packages\\statsmodels\\tsa\\base\\tsa_model.py:171: ValueWarning: No frequency information was provided, so inferred frequency D will be used.\n",
      "  % freq, ValueWarning)\n",
      "C:\\Users\\joyle\\Anaconda3\\envs\\tensorflow\\lib\\site-packages\\statsmodels\\tsa\\base\\tsa_model.py:171: ValueWarning: No frequency information was provided, so inferred frequency D will be used.\n",
      "  % freq, ValueWarning)\n",
      "C:\\Users\\joyle\\Anaconda3\\envs\\tensorflow\\lib\\site-packages\\statsmodels\\tsa\\base\\tsa_model.py:171: ValueWarning: No frequency information was provided, so inferred frequency D will be used.\n",
      "  % freq, ValueWarning)\n",
      "C:\\Users\\joyle\\Anaconda3\\envs\\tensorflow\\lib\\site-packages\\statsmodels\\tsa\\base\\tsa_model.py:171: ValueWarning: No frequency information was provided, so inferred frequency D will be used.\n",
      "  % freq, ValueWarning)\n",
      "C:\\Users\\joyle\\Anaconda3\\envs\\tensorflow\\lib\\site-packages\\statsmodels\\tsa\\base\\tsa_model.py:171: ValueWarning: No frequency information was provided, so inferred frequency D will be used.\n",
      "  % freq, ValueWarning)\n",
      "C:\\Users\\joyle\\Anaconda3\\envs\\tensorflow\\lib\\site-packages\\statsmodels\\tsa\\base\\tsa_model.py:171: ValueWarning: No frequency information was provided, so inferred frequency D will be used.\n",
      "  % freq, ValueWarning)\n"
     ]
    },
    {
     "name": "stderr",
     "output_type": "stream",
     "text": [
      "C:\\Users\\joyle\\Anaconda3\\envs\\tensorflow\\lib\\site-packages\\statsmodels\\tsa\\base\\tsa_model.py:171: ValueWarning: No frequency information was provided, so inferred frequency D will be used.\n",
      "  % freq, ValueWarning)\n",
      "C:\\Users\\joyle\\Anaconda3\\envs\\tensorflow\\lib\\site-packages\\statsmodels\\base\\model.py:488: HessianInversionWarning: Inverting hessian failed, no bse or cov_params available\n",
      "  'available', HessianInversionWarning)\n",
      "C:\\Users\\joyle\\Anaconda3\\envs\\tensorflow\\lib\\site-packages\\statsmodels\\tsa\\base\\tsa_model.py:171: ValueWarning: No frequency information was provided, so inferred frequency D will be used.\n",
      "  % freq, ValueWarning)\n",
      "C:\\Users\\joyle\\Anaconda3\\envs\\tensorflow\\lib\\site-packages\\statsmodels\\tsa\\base\\tsa_model.py:171: ValueWarning: No frequency information was provided, so inferred frequency D will be used.\n",
      "  % freq, ValueWarning)\n",
      "C:\\Users\\joyle\\Anaconda3\\envs\\tensorflow\\lib\\site-packages\\statsmodels\\tsa\\base\\tsa_model.py:171: ValueWarning: No frequency information was provided, so inferred frequency D will be used.\n",
      "  % freq, ValueWarning)\n",
      "C:\\Users\\joyle\\Anaconda3\\envs\\tensorflow\\lib\\site-packages\\statsmodels\\tsa\\base\\tsa_model.py:171: ValueWarning: No frequency information was provided, so inferred frequency D will be used.\n",
      "  % freq, ValueWarning)\n",
      "C:\\Users\\joyle\\Anaconda3\\envs\\tensorflow\\lib\\site-packages\\statsmodels\\tsa\\base\\tsa_model.py:171: ValueWarning: No frequency information was provided, so inferred frequency D will be used.\n",
      "  % freq, ValueWarning)\n",
      "C:\\Users\\joyle\\Anaconda3\\envs\\tensorflow\\lib\\site-packages\\statsmodels\\tsa\\base\\tsa_model.py:171: ValueWarning: No frequency information was provided, so inferred frequency D will be used.\n",
      "  % freq, ValueWarning)\n",
      "C:\\Users\\joyle\\Anaconda3\\envs\\tensorflow\\lib\\site-packages\\statsmodels\\tsa\\base\\tsa_model.py:171: ValueWarning: No frequency information was provided, so inferred frequency D will be used.\n",
      "  % freq, ValueWarning)\n",
      "C:\\Users\\joyle\\Anaconda3\\envs\\tensorflow\\lib\\site-packages\\statsmodels\\base\\model.py:488: HessianInversionWarning: Inverting hessian failed, no bse or cov_params available\n",
      "  'available', HessianInversionWarning)\n",
      "C:\\Users\\joyle\\Anaconda3\\envs\\tensorflow\\lib\\site-packages\\statsmodels\\tsa\\base\\tsa_model.py:171: ValueWarning: No frequency information was provided, so inferred frequency D will be used.\n",
      "  % freq, ValueWarning)\n",
      "C:\\Users\\joyle\\Anaconda3\\envs\\tensorflow\\lib\\site-packages\\statsmodels\\base\\model.py:508: ConvergenceWarning: Maximum Likelihood optimization failed to converge. Check mle_retvals\n",
      "  \"Check mle_retvals\", ConvergenceWarning)\n",
      "C:\\Users\\joyle\\Anaconda3\\envs\\tensorflow\\lib\\site-packages\\statsmodels\\tsa\\base\\tsa_model.py:171: ValueWarning: No frequency information was provided, so inferred frequency D will be used.\n",
      "  % freq, ValueWarning)\n",
      "C:\\Users\\joyle\\Anaconda3\\envs\\tensorflow\\lib\\site-packages\\statsmodels\\base\\model.py:488: HessianInversionWarning: Inverting hessian failed, no bse or cov_params available\n",
      "  'available', HessianInversionWarning)\n",
      "C:\\Users\\joyle\\Anaconda3\\envs\\tensorflow\\lib\\site-packages\\statsmodels\\base\\model.py:508: ConvergenceWarning: Maximum Likelihood optimization failed to converge. Check mle_retvals\n",
      "  \"Check mle_retvals\", ConvergenceWarning)\n",
      "C:\\Users\\joyle\\Anaconda3\\envs\\tensorflow\\lib\\site-packages\\statsmodels\\tsa\\base\\tsa_model.py:171: ValueWarning: No frequency information was provided, so inferred frequency D will be used.\n",
      "  % freq, ValueWarning)\n",
      "C:\\Users\\joyle\\Anaconda3\\envs\\tensorflow\\lib\\site-packages\\statsmodels\\base\\model.py:488: HessianInversionWarning: Inverting hessian failed, no bse or cov_params available\n",
      "  'available', HessianInversionWarning)\n",
      "C:\\Users\\joyle\\Anaconda3\\envs\\tensorflow\\lib\\site-packages\\statsmodels\\base\\model.py:508: ConvergenceWarning: Maximum Likelihood optimization failed to converge. Check mle_retvals\n",
      "  \"Check mle_retvals\", ConvergenceWarning)\n",
      "C:\\Users\\joyle\\Anaconda3\\envs\\tensorflow\\lib\\site-packages\\statsmodels\\tsa\\base\\tsa_model.py:171: ValueWarning: No frequency information was provided, so inferred frequency D will be used.\n",
      "  % freq, ValueWarning)\n",
      "C:\\Users\\joyle\\Anaconda3\\envs\\tensorflow\\lib\\site-packages\\statsmodels\\base\\model.py:488: HessianInversionWarning: Inverting hessian failed, no bse or cov_params available\n",
      "  'available', HessianInversionWarning)\n",
      "C:\\Users\\joyle\\Anaconda3\\envs\\tensorflow\\lib\\site-packages\\statsmodels\\tsa\\base\\tsa_model.py:171: ValueWarning: No frequency information was provided, so inferred frequency D will be used.\n",
      "  % freq, ValueWarning)\n",
      "C:\\Users\\joyle\\Anaconda3\\envs\\tensorflow\\lib\\site-packages\\statsmodels\\tsa\\base\\tsa_model.py:171: ValueWarning: No frequency information was provided, so inferred frequency D will be used.\n",
      "  % freq, ValueWarning)\n",
      "C:\\Users\\joyle\\Anaconda3\\envs\\tensorflow\\lib\\site-packages\\statsmodels\\tsa\\base\\tsa_model.py:171: ValueWarning: No frequency information was provided, so inferred frequency D will be used.\n",
      "  % freq, ValueWarning)\n",
      "C:\\Users\\joyle\\Anaconda3\\envs\\tensorflow\\lib\\site-packages\\statsmodels\\tsa\\base\\tsa_model.py:171: ValueWarning: No frequency information was provided, so inferred frequency D will be used.\n",
      "  % freq, ValueWarning)\n",
      "C:\\Users\\joyle\\Anaconda3\\envs\\tensorflow\\lib\\site-packages\\statsmodels\\tsa\\base\\tsa_model.py:171: ValueWarning: No frequency information was provided, so inferred frequency D will be used.\n",
      "  % freq, ValueWarning)\n",
      "C:\\Users\\joyle\\Anaconda3\\envs\\tensorflow\\lib\\site-packages\\statsmodels\\tsa\\base\\tsa_model.py:171: ValueWarning: No frequency information was provided, so inferred frequency D will be used.\n",
      "  % freq, ValueWarning)\n",
      "C:\\Users\\joyle\\Anaconda3\\envs\\tensorflow\\lib\\site-packages\\statsmodels\\base\\model.py:488: HessianInversionWarning: Inverting hessian failed, no bse or cov_params available\n",
      "  'available', HessianInversionWarning)\n",
      "C:\\Users\\joyle\\Anaconda3\\envs\\tensorflow\\lib\\site-packages\\statsmodels\\tsa\\base\\tsa_model.py:171: ValueWarning: No frequency information was provided, so inferred frequency D will be used.\n",
      "  % freq, ValueWarning)\n",
      "C:\\Users\\joyle\\Anaconda3\\envs\\tensorflow\\lib\\site-packages\\statsmodels\\base\\model.py:488: HessianInversionWarning: Inverting hessian failed, no bse or cov_params available\n",
      "  'available', HessianInversionWarning)\n",
      "C:\\Users\\joyle\\Anaconda3\\envs\\tensorflow\\lib\\site-packages\\statsmodels\\tsa\\base\\tsa_model.py:171: ValueWarning: No frequency information was provided, so inferred frequency D will be used.\n",
      "  % freq, ValueWarning)\n",
      "C:\\Users\\joyle\\Anaconda3\\envs\\tensorflow\\lib\\site-packages\\statsmodels\\tsa\\base\\tsa_model.py:171: ValueWarning: No frequency information was provided, so inferred frequency D will be used.\n",
      "  % freq, ValueWarning)\n",
      "C:\\Users\\joyle\\Anaconda3\\envs\\tensorflow\\lib\\site-packages\\statsmodels\\base\\model.py:488: HessianInversionWarning: Inverting hessian failed, no bse or cov_params available\n",
      "  'available', HessianInversionWarning)\n",
      "C:\\Users\\joyle\\Anaconda3\\envs\\tensorflow\\lib\\site-packages\\statsmodels\\tsa\\base\\tsa_model.py:171: ValueWarning: No frequency information was provided, so inferred frequency D will be used.\n",
      "  % freq, ValueWarning)\n",
      "C:\\Users\\joyle\\Anaconda3\\envs\\tensorflow\\lib\\site-packages\\statsmodels\\tsa\\base\\tsa_model.py:171: ValueWarning: No frequency information was provided, so inferred frequency D will be used.\n",
      "  % freq, ValueWarning)\n",
      "C:\\Users\\joyle\\Anaconda3\\envs\\tensorflow\\lib\\site-packages\\statsmodels\\base\\model.py:488: HessianInversionWarning: Inverting hessian failed, no bse or cov_params available\n",
      "  'available', HessianInversionWarning)\n",
      "C:\\Users\\joyle\\Anaconda3\\envs\\tensorflow\\lib\\site-packages\\statsmodels\\tsa\\base\\tsa_model.py:171: ValueWarning: No frequency information was provided, so inferred frequency D will be used.\n",
      "  % freq, ValueWarning)\n",
      "C:\\Users\\joyle\\Anaconda3\\envs\\tensorflow\\lib\\site-packages\\statsmodels\\tsa\\base\\tsa_model.py:171: ValueWarning: No frequency information was provided, so inferred frequency D will be used.\n",
      "  % freq, ValueWarning)\n",
      "C:\\Users\\joyle\\Anaconda3\\envs\\tensorflow\\lib\\site-packages\\statsmodels\\base\\model.py:508: ConvergenceWarning: Maximum Likelihood optimization failed to converge. Check mle_retvals\n",
      "  \"Check mle_retvals\", ConvergenceWarning)\n",
      "C:\\Users\\joyle\\Anaconda3\\envs\\tensorflow\\lib\\site-packages\\statsmodels\\tsa\\base\\tsa_model.py:171: ValueWarning: No frequency information was provided, so inferred frequency D will be used.\n",
      "  % freq, ValueWarning)\n"
     ]
    },
    {
     "name": "stderr",
     "output_type": "stream",
     "text": [
      "C:\\Users\\joyle\\Anaconda3\\envs\\tensorflow\\lib\\site-packages\\statsmodels\\tsa\\base\\tsa_model.py:171: ValueWarning: No frequency information was provided, so inferred frequency D will be used.\n",
      "  % freq, ValueWarning)\n",
      "C:\\Users\\joyle\\Anaconda3\\envs\\tensorflow\\lib\\site-packages\\statsmodels\\tsa\\base\\tsa_model.py:171: ValueWarning: No frequency information was provided, so inferred frequency D will be used.\n",
      "  % freq, ValueWarning)\n",
      "C:\\Users\\joyle\\Anaconda3\\envs\\tensorflow\\lib\\site-packages\\statsmodels\\tsa\\base\\tsa_model.py:171: ValueWarning: No frequency information was provided, so inferred frequency D will be used.\n",
      "  % freq, ValueWarning)\n",
      "C:\\Users\\joyle\\Anaconda3\\envs\\tensorflow\\lib\\site-packages\\statsmodels\\base\\model.py:488: HessianInversionWarning: Inverting hessian failed, no bse or cov_params available\n",
      "  'available', HessianInversionWarning)\n",
      "C:\\Users\\joyle\\Anaconda3\\envs\\tensorflow\\lib\\site-packages\\statsmodels\\tsa\\base\\tsa_model.py:171: ValueWarning: No frequency information was provided, so inferred frequency D will be used.\n",
      "  % freq, ValueWarning)\n",
      "C:\\Users\\joyle\\Anaconda3\\envs\\tensorflow\\lib\\site-packages\\statsmodels\\base\\model.py:488: HessianInversionWarning: Inverting hessian failed, no bse or cov_params available\n",
      "  'available', HessianInversionWarning)\n",
      "C:\\Users\\joyle\\Anaconda3\\envs\\tensorflow\\lib\\site-packages\\statsmodels\\tsa\\base\\tsa_model.py:171: ValueWarning: No frequency information was provided, so inferred frequency D will be used.\n",
      "  % freq, ValueWarning)\n",
      "C:\\Users\\joyle\\Anaconda3\\envs\\tensorflow\\lib\\site-packages\\statsmodels\\base\\model.py:488: HessianInversionWarning: Inverting hessian failed, no bse or cov_params available\n",
      "  'available', HessianInversionWarning)\n",
      "C:\\Users\\joyle\\Anaconda3\\envs\\tensorflow\\lib\\site-packages\\statsmodels\\tsa\\base\\tsa_model.py:171: ValueWarning: No frequency information was provided, so inferred frequency D will be used.\n",
      "  % freq, ValueWarning)\n",
      "C:\\Users\\joyle\\Anaconda3\\envs\\tensorflow\\lib\\site-packages\\statsmodels\\base\\model.py:488: HessianInversionWarning: Inverting hessian failed, no bse or cov_params available\n",
      "  'available', HessianInversionWarning)\n",
      "C:\\Users\\joyle\\Anaconda3\\envs\\tensorflow\\lib\\site-packages\\statsmodels\\tsa\\base\\tsa_model.py:171: ValueWarning: No frequency information was provided, so inferred frequency D will be used.\n",
      "  % freq, ValueWarning)\n",
      "C:\\Users\\joyle\\Anaconda3\\envs\\tensorflow\\lib\\site-packages\\statsmodels\\base\\model.py:488: HessianInversionWarning: Inverting hessian failed, no bse or cov_params available\n",
      "  'available', HessianInversionWarning)\n",
      "C:\\Users\\joyle\\Anaconda3\\envs\\tensorflow\\lib\\site-packages\\statsmodels\\tsa\\base\\tsa_model.py:171: ValueWarning: No frequency information was provided, so inferred frequency D will be used.\n",
      "  % freq, ValueWarning)\n",
      "C:\\Users\\joyle\\Anaconda3\\envs\\tensorflow\\lib\\site-packages\\statsmodels\\base\\model.py:488: HessianInversionWarning: Inverting hessian failed, no bse or cov_params available\n",
      "  'available', HessianInversionWarning)\n",
      "C:\\Users\\joyle\\Anaconda3\\envs\\tensorflow\\lib\\site-packages\\statsmodels\\tsa\\base\\tsa_model.py:171: ValueWarning: No frequency information was provided, so inferred frequency D will be used.\n",
      "  % freq, ValueWarning)\n",
      "C:\\Users\\joyle\\Anaconda3\\envs\\tensorflow\\lib\\site-packages\\statsmodels\\tsa\\base\\tsa_model.py:171: ValueWarning: No frequency information was provided, so inferred frequency D will be used.\n",
      "  % freq, ValueWarning)\n",
      "C:\\Users\\joyle\\Anaconda3\\envs\\tensorflow\\lib\\site-packages\\statsmodels\\tsa\\base\\tsa_model.py:171: ValueWarning: No frequency information was provided, so inferred frequency D will be used.\n",
      "  % freq, ValueWarning)\n",
      "C:\\Users\\joyle\\Anaconda3\\envs\\tensorflow\\lib\\site-packages\\statsmodels\\tsa\\base\\tsa_model.py:171: ValueWarning: No frequency information was provided, so inferred frequency D will be used.\n",
      "  % freq, ValueWarning)\n",
      "C:\\Users\\joyle\\Anaconda3\\envs\\tensorflow\\lib\\site-packages\\statsmodels\\tsa\\base\\tsa_model.py:171: ValueWarning: No frequency information was provided, so inferred frequency D will be used.\n",
      "  % freq, ValueWarning)\n",
      "C:\\Users\\joyle\\Anaconda3\\envs\\tensorflow\\lib\\site-packages\\statsmodels\\tsa\\base\\tsa_model.py:171: ValueWarning: No frequency information was provided, so inferred frequency D will be used.\n",
      "  % freq, ValueWarning)\n",
      "C:\\Users\\joyle\\Anaconda3\\envs\\tensorflow\\lib\\site-packages\\statsmodels\\base\\model.py:488: HessianInversionWarning: Inverting hessian failed, no bse or cov_params available\n",
      "  'available', HessianInversionWarning)\n",
      "C:\\Users\\joyle\\Anaconda3\\envs\\tensorflow\\lib\\site-packages\\statsmodels\\tsa\\base\\tsa_model.py:171: ValueWarning: No frequency information was provided, so inferred frequency D will be used.\n",
      "  % freq, ValueWarning)\n",
      "C:\\Users\\joyle\\Anaconda3\\envs\\tensorflow\\lib\\site-packages\\statsmodels\\base\\model.py:488: HessianInversionWarning: Inverting hessian failed, no bse or cov_params available\n",
      "  'available', HessianInversionWarning)\n",
      "C:\\Users\\joyle\\Anaconda3\\envs\\tensorflow\\lib\\site-packages\\statsmodels\\tsa\\base\\tsa_model.py:171: ValueWarning: No frequency information was provided, so inferred frequency D will be used.\n",
      "  % freq, ValueWarning)\n",
      "C:\\Users\\joyle\\Anaconda3\\envs\\tensorflow\\lib\\site-packages\\statsmodels\\base\\model.py:488: HessianInversionWarning: Inverting hessian failed, no bse or cov_params available\n",
      "  'available', HessianInversionWarning)\n",
      "C:\\Users\\joyle\\Anaconda3\\envs\\tensorflow\\lib\\site-packages\\statsmodels\\tsa\\base\\tsa_model.py:171: ValueWarning: No frequency information was provided, so inferred frequency D will be used.\n",
      "  % freq, ValueWarning)\n",
      "C:\\Users\\joyle\\Anaconda3\\envs\\tensorflow\\lib\\site-packages\\statsmodels\\base\\model.py:488: HessianInversionWarning: Inverting hessian failed, no bse or cov_params available\n",
      "  'available', HessianInversionWarning)\n",
      "C:\\Users\\joyle\\Anaconda3\\envs\\tensorflow\\lib\\site-packages\\statsmodels\\tsa\\base\\tsa_model.py:171: ValueWarning: No frequency information was provided, so inferred frequency D will be used.\n",
      "  % freq, ValueWarning)\n",
      "C:\\Users\\joyle\\Anaconda3\\envs\\tensorflow\\lib\\site-packages\\statsmodels\\base\\model.py:488: HessianInversionWarning: Inverting hessian failed, no bse or cov_params available\n",
      "  'available', HessianInversionWarning)\n",
      "C:\\Users\\joyle\\Anaconda3\\envs\\tensorflow\\lib\\site-packages\\statsmodels\\base\\model.py:508: ConvergenceWarning: Maximum Likelihood optimization failed to converge. Check mle_retvals\n",
      "  \"Check mle_retvals\", ConvergenceWarning)\n",
      "C:\\Users\\joyle\\Anaconda3\\envs\\tensorflow\\lib\\site-packages\\statsmodels\\tsa\\base\\tsa_model.py:171: ValueWarning: No frequency information was provided, so inferred frequency D will be used.\n",
      "  % freq, ValueWarning)\n"
     ]
    },
    {
     "name": "stdout",
     "output_type": "stream",
     "text": [
      "aic\n",
      "             0             1             2             3             4   \\\n",
      "0  -4975.832065  -6449.043700  -7847.177872  -8847.474570  -9870.293324   \n",
      "1 -11280.062397 -12005.587285 -12322.824138 -12563.649942 -12576.998284   \n",
      "2 -12654.587849 -12653.017108 -12654.604628 -12654.225237 -12774.774343   \n",
      "3 -12653.084413 -12665.455943 -12672.176591 -12676.102816 -12845.430979   \n",
      "4 -12656.082282 -12669.615609 -12824.013778 -12680.925026 -12944.770953   \n",
      "5 -12659.498733 -12672.542714 -12680.824862 -12825.124027 -12950.020597   \n",
      "\n",
      "             5             6             7             8             9   \\\n",
      "0 -10504.677696 -11051.509940 -11412.500818 -11713.438722 -11979.947684   \n",
      "1 -12608.178670 -13310.725304 -13309.633936 -13308.037255 -13306.086067   \n",
      "2 -12875.291026 -13309.670990 -13305.645012 -13304.932612 -13303.432897   \n",
      "3 -12975.507148 -13308.074513 -13306.317322 -13304.964962 -13303.105811   \n",
      "4 -13037.800487 -13306.124081 -13304.460055 -13302.756583 -13300.973011   \n",
      "5 -13058.078162 -13304.825600 -13302.725727 -13302.785695 -13303.316680   \n",
      "\n",
      "             10  \n",
      "0 -12203.458301  \n",
      "1 -13304.794569  \n",
      "2 -13301.459652  \n",
      "3 -13301.128542  \n",
      "4 -13301.105416  \n",
      "5 -13297.876873  \n",
      "aic_min_order: (1, 6)\n",
      "--------------------------------------------------------------------\n",
      "bic\n",
      "             0             1             2             3             4   \\\n",
      "0  -4965.842365  -6434.059150  -7827.198472  -8822.500320  -9840.324224   \n",
      "1 -11265.077847 -11985.607885 -12297.849888 -12533.680842 -12542.034334   \n",
      "2 -12634.608449 -12628.042858 -12624.635528 -12619.261287 -12734.815543   \n",
      "3 -12628.110163 -12635.486843 -12637.212641 -12636.144016 -12800.477329   \n",
      "4 -12626.113182 -12634.651659 -12784.054978 -12635.971376 -12894.822453   \n",
      "5 -12624.534783 -12632.583914 -12635.871212 -12775.175527 -12895.077247   \n",
      "\n",
      "             5             6             7             8             9   \\\n",
      "0 -10469.713746 -11011.551140 -11367.547168 -11663.490222 -11925.004334   \n",
      "1 -12568.219870 -13265.771654 -13259.685436 -13253.093905 -13246.147867   \n",
      "2 -12830.337376 -13259.722491 -13250.701662 -13244.994413 -13238.499847   \n",
      "3 -12925.558648 -13253.131163 -13246.379122 -13240.031913 -13233.177911   \n",
      "4 -12982.857137 -13246.185881 -13239.527005 -13232.828683 -13226.050262   \n",
      "5 -12998.139963 -13239.892550 -13232.797827 -13227.862945 -13223.399080   \n",
      "\n",
      "             10  \n",
      "0 -12143.520101  \n",
      "1 -13239.861519  \n",
      "2 -13231.531753  \n",
      "3 -13226.205792  \n",
      "4 -13221.187816  \n",
      "5 -13212.964423  \n",
      "bic_min_order: (1, 6)\n"
     ]
    },
    {
     "name": "stderr",
     "output_type": "stream",
     "text": [
      "C:\\Users\\joyle\\Anaconda3\\envs\\tensorflow\\lib\\site-packages\\statsmodels\\base\\model.py:488: HessianInversionWarning: Inverting hessian failed, no bse or cov_params available\n",
      "  'available', HessianInversionWarning)\n",
      "C:\\Users\\joyle\\Anaconda3\\envs\\tensorflow\\lib\\site-packages\\statsmodels\\base\\model.py:508: ConvergenceWarning: Maximum Likelihood optimization failed to converge. Check mle_retvals\n",
      "  \"Check mle_retvals\", ConvergenceWarning)\n"
     ]
    }
   ],
   "source": [
    "## 選取 trend 的參數\n",
    "order = st.arma_order_select_ic(trend,max_ar=5,max_ma=10,ic=['aic', 'bic', 'hqic'])\n",
    "print('aic')\n",
    "print(order['aic'])\n",
    "print('aic_min_order:',order['aic_min_order'])\n",
    "print('--------------------------------------------------------------------')\n",
    "print('bic')\n",
    "print(order['bic'])\n",
    "print('bic_min_order:',order['bic_min_order'])"
   ]
  },
  {
   "cell_type": "code",
   "execution_count": 4,
   "metadata": {},
   "outputs": [
    {
     "name": "stderr",
     "output_type": "stream",
     "text": [
      "C:\\Users\\joyle\\Anaconda3\\envs\\tensorflow\\lib\\site-packages\\matplotlib\\figure.py:418: UserWarning: matplotlib is currently using a non-GUI backend, so cannot show the figure\n",
      "  \"matplotlib is currently using a non-GUI backend, \"\n"
     ]
    },
    {
     "data": {
      "image/png": "[encoded data removed]",
      "text/plain": [
       "<matplotlib.figure.Figure at 0x1b46a914860>"
      ]
     },
     "metadata": {},
     "output_type": "display_data"
    },
    {
     "name": "stderr",
     "output_type": "stream",
     "text": [
      "C:\\Users\\joyle\\Anaconda3\\envs\\tensorflow\\lib\\site-packages\\matplotlib\\figure.py:418: UserWarning: matplotlib is currently using a non-GUI backend, so cannot show the figure\n",
      "  \"matplotlib is currently using a non-GUI backend, \"\n"
     ]
    },
    {
     "data": {
      "image/png": "[encoded data removed]",
      "text/plain": [
       "<matplotlib.figure.Figure at 0x1b46c9c8390>"
      ]
     },
     "metadata": {},
     "output_type": "display_data"
    }
   ],
   "source": [
    "## 選取 trend 的參數\n",
    "acf=plot_acf(trend,lags=15)\n",
    "plt.title('ACF')\n",
    "acf.show()\n",
    "plt.show()\n",
    "pacf=plot_pacf(trend,lags=10)\n",
    "plt.title('PACF')\n",
    "pacf.show()\n",
    "plt.show()"
   ]
  },
  {
   "cell_type": "code",
   "execution_count": 8,
   "metadata": {},
   "outputs": [
    {
     "name": "stderr",
     "output_type": "stream",
     "text": [
      "C:\\Users\\joyle\\Anaconda3\\envs\\tensorflow\\lib\\site-packages\\statsmodels\\tsa\\base\\tsa_model.py:171: ValueWarning: No frequency information was provided, so inferred frequency D will be used.\n",
      "  % freq, ValueWarning)\n",
      "C:\\Users\\joyle\\Anaconda3\\envs\\tensorflow\\lib\\site-packages\\scipy\\signal\\signaltools.py:1333: FutureWarning: Using a non-tuple sequence for multidimensional indexing is deprecated; use `arr[tuple(seq)]` instead of `arr[seq]`. In the future this will be interpreted as an array index, `arr[np.array(seq)]`, which will result either in an error or a different result.\n",
      "  out_full[ind] += zi\n",
      "C:\\Users\\joyle\\Anaconda3\\envs\\tensorflow\\lib\\site-packages\\scipy\\signal\\signaltools.py:1336: FutureWarning: Using a non-tuple sequence for multidimensional indexing is deprecated; use `arr[tuple(seq)]` instead of `arr[seq]`. In the future this will be interpreted as an array index, `arr[np.array(seq)]`, which will result either in an error or a different result.\n",
      "  out = out_full[ind]\n",
      "C:\\Users\\joyle\\Anaconda3\\envs\\tensorflow\\lib\\site-packages\\scipy\\signal\\signaltools.py:1342: FutureWarning: Using a non-tuple sequence for multidimensional indexing is deprecated; use `arr[tuple(seq)]` instead of `arr[seq]`. In the future this will be interpreted as an array index, `arr[np.array(seq)]`, which will result either in an error or a different result.\n",
      "  zf = out_full[ind]\n",
      "C:\\Users\\joyle\\Anaconda3\\envs\\tensorflow\\lib\\site-packages\\statsmodels\\tsa\\base\\tsa_model.py:171: ValueWarning: No frequency information was provided, so inferred frequency D will be used.\n",
      "  % freq, ValueWarning)\n",
      "C:\\Users\\joyle\\Anaconda3\\envs\\tensorflow\\lib\\site-packages\\statsmodels\\tsa\\base\\tsa_model.py:171: ValueWarning: No frequency information was provided, so inferred frequency D will be used.\n",
      "  % freq, ValueWarning)\n",
      "C:\\Users\\joyle\\Anaconda3\\envs\\tensorflow\\lib\\site-packages\\statsmodels\\tsa\\base\\tsa_model.py:171: ValueWarning: No frequency information was provided, so inferred frequency D will be used.\n",
      "  % freq, ValueWarning)\n",
      "C:\\Users\\joyle\\Anaconda3\\envs\\tensorflow\\lib\\site-packages\\statsmodels\\tsa\\base\\tsa_model.py:171: ValueWarning: No frequency information was provided, so inferred frequency D will be used.\n",
      "  % freq, ValueWarning)\n",
      "C:\\Users\\joyle\\Anaconda3\\envs\\tensorflow\\lib\\site-packages\\statsmodels\\tsa\\base\\tsa_model.py:171: ValueWarning: No frequency information was provided, so inferred frequency D will be used.\n",
      "  % freq, ValueWarning)\n",
      "C:\\Users\\joyle\\Anaconda3\\envs\\tensorflow\\lib\\site-packages\\statsmodels\\tsa\\base\\tsa_model.py:171: ValueWarning: No frequency information was provided, so inferred frequency D will be used.\n",
      "  % freq, ValueWarning)\n",
      "C:\\Users\\joyle\\Anaconda3\\envs\\tensorflow\\lib\\site-packages\\statsmodels\\tsa\\base\\tsa_model.py:171: ValueWarning: No frequency information was provided, so inferred frequency D will be used.\n",
      "  % freq, ValueWarning)\n",
      "C:\\Users\\joyle\\Anaconda3\\envs\\tensorflow\\lib\\site-packages\\statsmodels\\tsa\\base\\tsa_model.py:171: ValueWarning: No frequency information was provided, so inferred frequency D will be used.\n",
      "  % freq, ValueWarning)\n",
      "C:\\Users\\joyle\\Anaconda3\\envs\\tensorflow\\lib\\site-packages\\statsmodels\\tsa\\base\\tsa_model.py:171: ValueWarning: No frequency information was provided, so inferred frequency D will be used.\n",
      "  % freq, ValueWarning)\n",
      "C:\\Users\\joyle\\Anaconda3\\envs\\tensorflow\\lib\\site-packages\\statsmodels\\tsa\\base\\tsa_model.py:171: ValueWarning: No frequency information was provided, so inferred frequency D will be used.\n",
      "  % freq, ValueWarning)\n",
      "C:\\Users\\joyle\\Anaconda3\\envs\\tensorflow\\lib\\site-packages\\statsmodels\\tsa\\base\\tsa_model.py:171: ValueWarning: No frequency information was provided, so inferred frequency D will be used.\n",
      "  % freq, ValueWarning)\n",
      "C:\\Users\\joyle\\Anaconda3\\envs\\tensorflow\\lib\\site-packages\\statsmodels\\tsa\\base\\tsa_model.py:171: ValueWarning: No frequency information was provided, so inferred frequency D will be used.\n",
      "  % freq, ValueWarning)\n",
      "C:\\Users\\joyle\\Anaconda3\\envs\\tensorflow\\lib\\site-packages\\statsmodels\\tsa\\base\\tsa_model.py:171: ValueWarning: No frequency information was provided, so inferred frequency D will be used.\n",
      "  % freq, ValueWarning)\n",
      "C:\\Users\\joyle\\Anaconda3\\envs\\tensorflow\\lib\\site-packages\\statsmodels\\tsa\\base\\tsa_model.py:171: ValueWarning: No frequency information was provided, so inferred frequency D will be used.\n",
      "  % freq, ValueWarning)\n",
      "C:\\Users\\joyle\\Anaconda3\\envs\\tensorflow\\lib\\site-packages\\statsmodels\\tsa\\base\\tsa_model.py:171: ValueWarning: No frequency information was provided, so inferred frequency D will be used.\n",
      "  % freq, ValueWarning)\n",
      "C:\\Users\\joyle\\Anaconda3\\envs\\tensorflow\\lib\\site-packages\\statsmodels\\tsa\\base\\tsa_model.py:171: ValueWarning: No frequency information was provided, so inferred frequency D will be used.\n",
      "  % freq, ValueWarning)\n",
      "C:\\Users\\joyle\\Anaconda3\\envs\\tensorflow\\lib\\site-packages\\statsmodels\\tsa\\base\\tsa_model.py:171: ValueWarning: No frequency information was provided, so inferred frequency D will be used.\n",
      "  % freq, ValueWarning)\n",
      "C:\\Users\\joyle\\Anaconda3\\envs\\tensorflow\\lib\\site-packages\\statsmodels\\tsa\\base\\tsa_model.py:171: ValueWarning: No frequency information was provided, so inferred frequency D will be used.\n",
      "  % freq, ValueWarning)\n",
      "C:\\Users\\joyle\\Anaconda3\\envs\\tensorflow\\lib\\site-packages\\statsmodels\\tsa\\base\\tsa_model.py:171: ValueWarning: No frequency information was provided, so inferred frequency D will be used.\n",
      "  % freq, ValueWarning)\n",
      "C:\\Users\\joyle\\Anaconda3\\envs\\tensorflow\\lib\\site-packages\\statsmodels\\tsa\\base\\tsa_model.py:171: ValueWarning: No frequency information was provided, so inferred frequency D will be used.\n",
      "  % freq, ValueWarning)\n",
      "C:\\Users\\joyle\\Anaconda3\\envs\\tensorflow\\lib\\site-packages\\statsmodels\\tsa\\base\\tsa_model.py:171: ValueWarning: No frequency information was provided, so inferred frequency D will be used.\n",
      "  % freq, ValueWarning)\n",
      "C:\\Users\\joyle\\Anaconda3\\envs\\tensorflow\\lib\\site-packages\\statsmodels\\tsa\\base\\tsa_model.py:171: ValueWarning: No frequency information was provided, so inferred frequency D will be used.\n",
      "  % freq, ValueWarning)\n",
      "C:\\Users\\joyle\\Anaconda3\\envs\\tensorflow\\lib\\site-packages\\statsmodels\\tsa\\base\\tsa_model.py:171: ValueWarning: No frequency information was provided, so inferred frequency D will be used.\n",
      "  % freq, ValueWarning)\n",
      "C:\\Users\\joyle\\Anaconda3\\envs\\tensorflow\\lib\\site-packages\\statsmodels\\tsa\\tsatools.py:606: RuntimeWarning: overflow encountered in exp\n",
      "  newparams = ((1-np.exp(-params))/\n",
      "C:\\Users\\joyle\\Anaconda3\\envs\\tensorflow\\lib\\site-packages\\statsmodels\\tsa\\tsatools.py:607: RuntimeWarning: overflow encountered in exp\n",
      "  (1+np.exp(-params))).copy()\n",
      "C:\\Users\\joyle\\Anaconda3\\envs\\tensorflow\\lib\\site-packages\\statsmodels\\tsa\\tsatools.py:607: RuntimeWarning: invalid value encountered in true_divide\n",
      "  (1+np.exp(-params))).copy()\n",
      "C:\\Users\\joyle\\Anaconda3\\envs\\tensorflow\\lib\\site-packages\\statsmodels\\tsa\\tsatools.py:608: RuntimeWarning: overflow encountered in exp\n",
      "  tmp = ((1-np.exp(-params))/\n",
      "C:\\Users\\joyle\\Anaconda3\\envs\\tensorflow\\lib\\site-packages\\statsmodels\\tsa\\tsatools.py:609: RuntimeWarning: overflow encountered in exp\n",
      "  (1+np.exp(-params))).copy()\n",
      "C:\\Users\\joyle\\Anaconda3\\envs\\tensorflow\\lib\\site-packages\\statsmodels\\tsa\\tsatools.py:609: RuntimeWarning: invalid value encountered in true_divide\n",
      "  (1+np.exp(-params))).copy()\n",
      "C:\\Users\\joyle\\Anaconda3\\envs\\tensorflow\\lib\\site-packages\\statsmodels\\tsa\\tsatools.py:650: RuntimeWarning: overflow encountered in exp\n",
      "  newparams = ((1-np.exp(-params))/(1+np.exp(-params))).copy()\n",
      "C:\\Users\\joyle\\Anaconda3\\envs\\tensorflow\\lib\\site-packages\\statsmodels\\tsa\\tsatools.py:650: RuntimeWarning: invalid value encountered in true_divide\n",
      "  newparams = ((1-np.exp(-params))/(1+np.exp(-params))).copy()\n",
      "C:\\Users\\joyle\\Anaconda3\\envs\\tensorflow\\lib\\site-packages\\statsmodels\\tsa\\tsatools.py:651: RuntimeWarning: overflow encountered in exp\n",
      "  tmp = ((1-np.exp(-params))/(1+np.exp(-params))).copy()\n",
      "C:\\Users\\joyle\\Anaconda3\\envs\\tensorflow\\lib\\site-packages\\statsmodels\\tsa\\tsatools.py:651: RuntimeWarning: invalid value encountered in true_divide\n",
      "  tmp = ((1-np.exp(-params))/(1+np.exp(-params))).copy()\n",
      "C:\\Users\\joyle\\Anaconda3\\envs\\tensorflow\\lib\\site-packages\\statsmodels\\tsa\\base\\tsa_model.py:171: ValueWarning: No frequency information was provided, so inferred frequency D will be used.\n",
      "  % freq, ValueWarning)\n"
     ]
    },
    {
     "name": "stderr",
     "output_type": "stream",
     "text": [
      "C:\\Users\\joyle\\Anaconda3\\envs\\tensorflow\\lib\\site-packages\\statsmodels\\tsa\\base\\tsa_model.py:171: ValueWarning: No frequency information was provided, so inferred frequency D will be used.\n",
      "  % freq, ValueWarning)\n",
      "C:\\Users\\joyle\\Anaconda3\\envs\\tensorflow\\lib\\site-packages\\statsmodels\\tsa\\base\\tsa_model.py:171: ValueWarning: No frequency information was provided, so inferred frequency D will be used.\n",
      "  % freq, ValueWarning)\n",
      "C:\\Users\\joyle\\Anaconda3\\envs\\tensorflow\\lib\\site-packages\\statsmodels\\tsa\\base\\tsa_model.py:171: ValueWarning: No frequency information was provided, so inferred frequency D will be used.\n",
      "  % freq, ValueWarning)\n",
      "C:\\Users\\joyle\\Anaconda3\\envs\\tensorflow\\lib\\site-packages\\statsmodels\\tsa\\base\\tsa_model.py:171: ValueWarning: No frequency information was provided, so inferred frequency D will be used.\n",
      "  % freq, ValueWarning)\n",
      "C:\\Users\\joyle\\Anaconda3\\envs\\tensorflow\\lib\\site-packages\\statsmodels\\tsa\\base\\tsa_model.py:171: ValueWarning: No frequency information was provided, so inferred frequency D will be used.\n",
      "  % freq, ValueWarning)\n",
      "C:\\Users\\joyle\\Anaconda3\\envs\\tensorflow\\lib\\site-packages\\statsmodels\\tsa\\base\\tsa_model.py:171: ValueWarning: No frequency information was provided, so inferred frequency D will be used.\n",
      "  % freq, ValueWarning)\n",
      "C:\\Users\\joyle\\Anaconda3\\envs\\tensorflow\\lib\\site-packages\\statsmodels\\tsa\\base\\tsa_model.py:171: ValueWarning: No frequency information was provided, so inferred frequency D will be used.\n",
      "  % freq, ValueWarning)\n",
      "C:\\Users\\joyle\\Anaconda3\\envs\\tensorflow\\lib\\site-packages\\statsmodels\\tsa\\base\\tsa_model.py:171: ValueWarning: No frequency information was provided, so inferred frequency D will be used.\n",
      "  % freq, ValueWarning)\n",
      "C:\\Users\\joyle\\Anaconda3\\envs\\tensorflow\\lib\\site-packages\\statsmodels\\tsa\\base\\tsa_model.py:171: ValueWarning: No frequency information was provided, so inferred frequency D will be used.\n",
      "  % freq, ValueWarning)\n",
      "C:\\Users\\joyle\\Anaconda3\\envs\\tensorflow\\lib\\site-packages\\statsmodels\\tsa\\base\\tsa_model.py:171: ValueWarning: No frequency information was provided, so inferred frequency D will be used.\n",
      "  % freq, ValueWarning)\n",
      "C:\\Users\\joyle\\Anaconda3\\envs\\tensorflow\\lib\\site-packages\\statsmodels\\tsa\\base\\tsa_model.py:171: ValueWarning: No frequency information was provided, so inferred frequency D will be used.\n",
      "  % freq, ValueWarning)\n"
     ]
    },
    {
     "name": "stdout",
     "output_type": "stream",
     "text": [
      "aic\n",
      "             0            1            2            3            4  \\\n",
      "0 -8501.746661 -9092.149837 -9318.286810 -9388.301888 -9426.061202   \n",
      "1 -9434.296407 -9436.158657 -9442.003150 -9442.003204 -9445.762369   \n",
      "2 -9437.124717 -9445.826735 -9446.765477 -9445.114347 -9446.447315   \n",
      "3 -9445.182634 -9446.582509 -9445.635462 -9444.848413 -9446.775418   \n",
      "4 -9445.568363 -9444.692457 -9443.649328 -9442.635074 -9444.876384   \n",
      "5 -9445.843865 -9443.845578 -9446.608662 -9444.738238 -9442.882892   \n",
      "\n",
      "             5  \n",
      "0 -9449.161372  \n",
      "1 -9448.209214  \n",
      "2 -9446.611413  \n",
      "3          NaN  \n",
      "4 -9443.295244  \n",
      "5          NaN  \n",
      "aic_min_order: (0, 5)\n",
      "--------------------------------------------------------------------\n",
      "bic\n",
      "             0            1            2            3            4  \\\n",
      "0 -8491.756961 -9077.165287 -9298.307410 -9363.327638 -9396.092102   \n",
      "1 -9419.311857 -9416.179257 -9417.028900 -9412.034104 -9410.798419   \n",
      "2 -9417.145317 -9420.852485 -9416.796377 -9410.150397 -9406.488515   \n",
      "3 -9420.208384 -9416.613409 -9410.671512 -9404.889613 -9401.821768   \n",
      "4 -9415.599263 -9409.728507 -9403.690528 -9397.681424 -9394.927884   \n",
      "5 -9410.879915 -9403.886779 -9401.655013 -9394.789738 -9387.939542   \n",
      "\n",
      "             5  \n",
      "0 -9414.197422  \n",
      "1 -9408.250414  \n",
      "2 -9401.657763  \n",
      "3          NaN  \n",
      "4 -9388.351894  \n",
      "5          NaN  \n",
      "bic_min_order: (2, 1)\n"
     ]
    }
   ],
   "source": [
    "## 選取 residual 的參數\n",
    "order_r = st.arma_order_select_ic(residual,max_ar=5,max_ma=5,ic=['aic', 'bic', 'hqic'])\n",
    "print('aic')\n",
    "print(order_r['aic'])\n",
    "print('aic_min_order:',order_r['aic_min_order'])\n",
    "print('--------------------------------------------------------------------')\n",
    "print('bic')\n",
    "print(order_r['bic'])\n",
    "print('bic_min_order:',order_r['bic_min_order'])"
   ]
  },
  {
   "cell_type": "code",
   "execution_count": 5,
   "metadata": {},
   "outputs": [
    {
     "name": "stderr",
     "output_type": "stream",
     "text": [
      "C:\\Users\\joyle\\Anaconda3\\envs\\tensorflow\\lib\\site-packages\\matplotlib\\figure.py:418: UserWarning: matplotlib is currently using a non-GUI backend, so cannot show the figure\n",
      "  \"matplotlib is currently using a non-GUI backend, \"\n"
     ]
    },
    {
     "data": {
      "image/png": "[encoded data removed]",
      "text/plain": [
       "<matplotlib.figure.Figure at 0x1b46da3b390>"
      ]
     },
     "metadata": {},
     "output_type": "display_data"
    },
    {
     "name": "stderr",
     "output_type": "stream",
     "text": [
      "C:\\Users\\joyle\\Anaconda3\\envs\\tensorflow\\lib\\site-packages\\matplotlib\\figure.py:418: UserWarning: matplotlib is currently using a non-GUI backend, so cannot show the figure\n",
      "  \"matplotlib is currently using a non-GUI backend, \"\n"
     ]
    },
    {
     "data": {
      "image/png": "[encoded data removed]",
      "text/plain": [
       "<matplotlib.figure.Figure at 0x1b46da8d518>"
      ]
     },
     "metadata": {},
     "output_type": "display_data"
    }
   ],
   "source": [
    "## 選取 residual 的參數\n",
    "acf=plot_acf(residual,lags=10)\n",
    "plt.title('ACF')\n",
    "acf.show()\n",
    "plt.show()\n",
    "pacf=plot_pacf(residual,lags=10)\n",
    "plt.title('PACF')\n",
    "pacf.show()\n",
    "plt.show()"
   ]
  },
  {
   "cell_type": "code",
   "execution_count": null,
   "metadata": {},
   "outputs": [],
   "source": []
  }
 ],
 "metadata": {
  "kernelspec": {
   "display_name": "Python 3",
   "language": "python",
   "name": "python3"
  },
  "language_info": {
   "codemirror_mode": {
    "name": "ipython",
    "version": 3
   },
   "file_extension": ".py",
   "mimetype": "text/x-python",
   "name": "python",
   "nbconvert_exporter": "python",
   "pygments_lexer": "ipython3",
   "version": "3.7.1"
  }
 },
 "nbformat": 4,
 "nbformat_minor": 2
}
