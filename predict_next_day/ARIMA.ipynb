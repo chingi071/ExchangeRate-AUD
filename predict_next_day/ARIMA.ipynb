{
 "cells": [
  {
   "cell_type": "code",
   "execution_count": 4,
   "metadata": {},
   "outputs": [],
   "source": [
    "import os\n",
    "import pandas as pd\n",
    "import numpy as np\n",
    "import math\n",
    "import time\n",
    "from datetime import datetime, timedelta\n",
    "import matplotlib.pyplot as plt  #畫圖形\n",
    "import statsmodels.api as sm   #statsmodels用於估計許多不同統計模型的類和函數\n",
    "from statsmodels.graphics.tsaplots import acf,pacf,plot_acf,plot_pacf  # acf和pacf展示庫\n",
    "import statsmodels.tsa.stattools as st\n",
    "from statsmodels.graphics.tsaplots import plot_acf,plot_pacf\n",
    "from statsmodels.tsa.arima_model import ARIMA  # 導入ARIMA模型"
   ]
  },
  {
   "cell_type": "code",
   "execution_count": 2,
   "metadata": {},
   "outputs": [],
   "source": [
    "def sort_data(Data):\n",
    "    d = Data[\"Date\"]\n",
    "    d = pd.to_datetime(d)\n",
    "\n",
    "    data = Data[\"Price\"]\n",
    "    data.index = pd.Index(d)\n",
    "\n",
    "    return data\n",
    "\n",
    "def missing_value():\n",
    "    SAT = pd.date_range(start = '01/01/2016', end = '03/31/2019', freq='W-SAT')\n",
    "\n",
    "    SUN = pd.date_range(start = '01/01/2016', end = '05/31/2018', freq='W-SUN')\n",
    "\n",
    "    s1 = pd.Series([np.nan]*len(SAT) ,index=SAT)\n",
    "    s2 = pd.Series([np.nan]*len(SUN) ,index=SUN)\n",
    "    \n",
    "    return s1, s2\n",
    "    \n",
    "def supplement_data(data):\n",
    "    s1, s2 = missing_value()\n",
    "    \n",
    "    data = data.append(s1)\n",
    "    data = data.append(s2)\n",
    "    \n",
    "    data.sort_index(inplace=True)\n",
    "    \n",
    "    for j in range(len(data)):\n",
    "        null_value = data[data.isnull().values == True]\n",
    "        if len(null_value) != 0:\n",
    "            for i in range(len(null_value)):\n",
    "                if math.isnan(data[null_value.index[i]+timedelta(-1)]) == False:\n",
    "                    if math.isnan(data[null_value.index[i]+timedelta(1)]) == False: \n",
    "                        data[null_value.index[i]] = (data[null_value.index[i]+timedelta(-1)]+data[null_value.index[i]+timedelta(1)])/2\n",
    "            data = data.fillna(method = 'ffill', limit = 1)\n",
    "            data = data.fillna(method = 'bfill', limit = 1)            \n",
    "        else:\n",
    "            break\n",
    "            \n",
    "    return data\n",
    "\n",
    "def split(data):\n",
    "    train = data[:'2019-01-01']    \n",
    "    true = data['2019-01-01':]\n",
    "    last = pd.Series(train['2018-12-31'], index=['2018-12-31'])\n",
    "    \n",
    "    return train, true, last\n",
    "\n",
    "def ADF(train):\n",
    "    t=sm.tsa.stattools.adfuller(train)  #ADF檢驗\n",
    "    output=pd.DataFrame(index=['Test Statistic Value', \"p-value\", \"Lags Used\", \"Number of Observations Used\",\"Critical Value(1%)\",\"Critical Value(5%)\",\"Critical Value(10%)\"],columns=['value'])\n",
    "    output['value']['Test Statistic Value'] = t[0]\n",
    "    output['value']['p-value'] = t[1]\n",
    "    output['value']['Lags Used'] = t[2]  #滯後階數\n",
    "    output['value']['Number of Observations Used'] = t[3]  #ADF回歸和計算臨界值所使用的觀察次數\n",
    "    output['value']['Critical Value(1%)'] = t[4]['1%']\n",
    "    output['value']['Critical Value(5%)'] = t[4]['5%']\n",
    "    output['value']['Critical Value(10%)'] = t[4]['10%']\n",
    "\n",
    "    return output\n",
    "\n",
    "def model(x, order):\n",
    "    model =ARIMA(x, order=order)  # ARIMA的參數: order = p, d, q\n",
    "    results_ARIMA =model.fit(disp=-1,method = 'mle')\n",
    "    predict_data = results_ARIMA.predict(start='2019-01-01', end='2019-03-31', dynamic = False) \n",
    "    \n",
    "    return predict_data\n",
    "\n",
    "def predict(last, predict_data):\n",
    "    predicted_data = last.append(predict_data).cumsum()\n",
    "    predicted_data = predicted_data[1:]\n",
    "    \n",
    "    return predicted_data   \n",
    "    \n",
    "def plot_data(true_data, predicted_data):\n",
    "    plt.figure(figsize=(12,6))\n",
    "    plt.plot(predicted_data.index, true_data, color = 'cornflowerblue', marker = 'o', label='True')\n",
    "    plt.plot(predicted_data.index, predicted_data, color = 'lightcoral', marker = 'o', label='Predict')\n",
    "    plt.legend()\n",
    "    plt.show()"
   ]
  },
  {
   "cell_type": "code",
   "execution_count": 3,
   "metadata": {},
   "outputs": [],
   "source": [
    "Data = pd.read_excel(\"c:/python/AUD-USD/AUD_USD.xlsx\",index_col=False)\n",
    "data = sort_data(Data)\n",
    "data = supplement_data(data)\n",
    "train, true, last = split(data)"
   ]
  },
  {
   "cell_type": "code",
   "execution_count": 47,
   "metadata": {},
   "outputs": [
    {
     "data": {
      "text/html": [
       "<div>\n",
       "<style scoped>\n",
       "    .dataframe tbody tr th:only-of-type {\n",
       "        vertical-align: middle;\n",
       "    }\n",
       "\n",
       "    .dataframe tbody tr th {\n",
       "        vertical-align: top;\n",
       "    }\n",
       "\n",
       "    .dataframe thead th {\n",
       "        text-align: right;\n",
       "    }\n",
       "</style>\n",
       "<table border=\"1\" class=\"dataframe\">\n",
       "  <thead>\n",
       "    <tr style=\"text-align: right;\">\n",
       "      <th></th>\n",
       "      <th>value</th>\n",
       "    </tr>\n",
       "  </thead>\n",
       "  <tbody>\n",
       "    <tr>\n",
       "      <th>Test Statistic Value</th>\n",
       "      <td>-2.16694</td>\n",
       "    </tr>\n",
       "    <tr>\n",
       "      <th>p-value</th>\n",
       "      <td>0.218461</td>\n",
       "    </tr>\n",
       "    <tr>\n",
       "      <th>Lags Used</th>\n",
       "      <td>0</td>\n",
       "    </tr>\n",
       "    <tr>\n",
       "      <th>Number of Observations Used</th>\n",
       "      <td>1096</td>\n",
       "    </tr>\n",
       "    <tr>\n",
       "      <th>Critical Value(1%)</th>\n",
       "      <td>-3.43633</td>\n",
       "    </tr>\n",
       "    <tr>\n",
       "      <th>Critical Value(5%)</th>\n",
       "      <td>-2.86418</td>\n",
       "    </tr>\n",
       "    <tr>\n",
       "      <th>Critical Value(10%)</th>\n",
       "      <td>-2.56818</td>\n",
       "    </tr>\n",
       "  </tbody>\n",
       "</table>\n",
       "</div>"
      ],
      "text/plain": [
       "                                value\n",
       "Test Statistic Value         -2.16694\n",
       "p-value                      0.218461\n",
       "Lags Used                           0\n",
       "Number of Observations Used      1096\n",
       "Critical Value(1%)           -3.43633\n",
       "Critical Value(5%)           -2.86418\n",
       "Critical Value(10%)          -2.56818"
      ]
     },
     "execution_count": 47,
     "metadata": {},
     "output_type": "execute_result"
    }
   ],
   "source": [
    "ADF(train)"
   ]
  },
  {
   "cell_type": "code",
   "execution_count": 48,
   "metadata": {},
   "outputs": [
    {
     "data": {
      "text/html": [
       "<div>\n",
       "<style scoped>\n",
       "    .dataframe tbody tr th:only-of-type {\n",
       "        vertical-align: middle;\n",
       "    }\n",
       "\n",
       "    .dataframe tbody tr th {\n",
       "        vertical-align: top;\n",
       "    }\n",
       "\n",
       "    .dataframe thead th {\n",
       "        text-align: right;\n",
       "    }\n",
       "</style>\n",
       "<table border=\"1\" class=\"dataframe\">\n",
       "  <thead>\n",
       "    <tr style=\"text-align: right;\">\n",
       "      <th></th>\n",
       "      <th>value</th>\n",
       "    </tr>\n",
       "  </thead>\n",
       "  <tbody>\n",
       "    <tr>\n",
       "      <th>Test Statistic Value</th>\n",
       "      <td>-34.3046</td>\n",
       "    </tr>\n",
       "    <tr>\n",
       "      <th>p-value</th>\n",
       "      <td>0</td>\n",
       "    </tr>\n",
       "    <tr>\n",
       "      <th>Lags Used</th>\n",
       "      <td>0</td>\n",
       "    </tr>\n",
       "    <tr>\n",
       "      <th>Number of Observations Used</th>\n",
       "      <td>1095</td>\n",
       "    </tr>\n",
       "    <tr>\n",
       "      <th>Critical Value(1%)</th>\n",
       "      <td>-3.43634</td>\n",
       "    </tr>\n",
       "    <tr>\n",
       "      <th>Critical Value(5%)</th>\n",
       "      <td>-2.86418</td>\n",
       "    </tr>\n",
       "    <tr>\n",
       "      <th>Critical Value(10%)</th>\n",
       "      <td>-2.56818</td>\n",
       "    </tr>\n",
       "  </tbody>\n",
       "</table>\n",
       "</div>"
      ],
      "text/plain": [
       "                               value\n",
       "Test Statistic Value        -34.3046\n",
       "p-value                            0\n",
       "Lags Used                          0\n",
       "Number of Observations Used     1095\n",
       "Critical Value(1%)          -3.43634\n",
       "Critical Value(5%)          -2.86418\n",
       "Critical Value(10%)         -2.56818"
      ]
     },
     "execution_count": 48,
     "metadata": {},
     "output_type": "execute_result"
    }
   ],
   "source": [
    "train_diff = train.diff(1).dropna()\n",
    "ADF(train_diff)"
   ]
  },
  {
   "cell_type": "code",
   "execution_count": 49,
   "metadata": {},
   "outputs": [
    {
     "name": "stderr",
     "output_type": "stream",
     "text": [
      "C:\\Users\\joyle\\Anaconda3\\envs\\tensorflow\\lib\\site-packages\\statsmodels\\tsa\\base\\tsa_model.py:171: ValueWarning: No frequency information was provided, so inferred frequency D will be used.\n",
      "  % freq, ValueWarning)\n",
      "C:\\Users\\joyle\\Anaconda3\\envs\\tensorflow\\lib\\site-packages\\scipy\\signal\\signaltools.py:1333: FutureWarning: Using a non-tuple sequence for multidimensional indexing is deprecated; use `arr[tuple(seq)]` instead of `arr[seq]`. In the future this will be interpreted as an array index, `arr[np.array(seq)]`, which will result either in an error or a different result.\n",
      "  out_full[ind] += zi\n",
      "C:\\Users\\joyle\\Anaconda3\\envs\\tensorflow\\lib\\site-packages\\scipy\\signal\\signaltools.py:1336: FutureWarning: Using a non-tuple sequence for multidimensional indexing is deprecated; use `arr[tuple(seq)]` instead of `arr[seq]`. In the future this will be interpreted as an array index, `arr[np.array(seq)]`, which will result either in an error or a different result.\n",
      "  out = out_full[ind]\n",
      "C:\\Users\\joyle\\Anaconda3\\envs\\tensorflow\\lib\\site-packages\\scipy\\signal\\signaltools.py:1342: FutureWarning: Using a non-tuple sequence for multidimensional indexing is deprecated; use `arr[tuple(seq)]` instead of `arr[seq]`. In the future this will be interpreted as an array index, `arr[np.array(seq)]`, which will result either in an error or a different result.\n",
      "  zf = out_full[ind]\n",
      "C:\\Users\\joyle\\Anaconda3\\envs\\tensorflow\\lib\\site-packages\\statsmodels\\tsa\\base\\tsa_model.py:171: ValueWarning: No frequency information was provided, so inferred frequency D will be used.\n",
      "  % freq, ValueWarning)\n",
      "C:\\Users\\joyle\\Anaconda3\\envs\\tensorflow\\lib\\site-packages\\statsmodels\\tsa\\base\\tsa_model.py:171: ValueWarning: No frequency information was provided, so inferred frequency D will be used.\n",
      "  % freq, ValueWarning)\n",
      "C:\\Users\\joyle\\Anaconda3\\envs\\tensorflow\\lib\\site-packages\\statsmodels\\tsa\\base\\tsa_model.py:171: ValueWarning: No frequency information was provided, so inferred frequency D will be used.\n",
      "  % freq, ValueWarning)\n",
      "C:\\Users\\joyle\\Anaconda3\\envs\\tensorflow\\lib\\site-packages\\statsmodels\\tsa\\base\\tsa_model.py:171: ValueWarning: No frequency information was provided, so inferred frequency D will be used.\n",
      "  % freq, ValueWarning)\n",
      "C:\\Users\\joyle\\Anaconda3\\envs\\tensorflow\\lib\\site-packages\\statsmodels\\tsa\\base\\tsa_model.py:171: ValueWarning: No frequency information was provided, so inferred frequency D will be used.\n",
      "  % freq, ValueWarning)\n",
      "C:\\Users\\joyle\\Anaconda3\\envs\\tensorflow\\lib\\site-packages\\statsmodels\\tsa\\base\\tsa_model.py:171: ValueWarning: No frequency information was provided, so inferred frequency D will be used.\n",
      "  % freq, ValueWarning)\n",
      "C:\\Users\\joyle\\Anaconda3\\envs\\tensorflow\\lib\\site-packages\\statsmodels\\tsa\\base\\tsa_model.py:171: ValueWarning: No frequency information was provided, so inferred frequency D will be used.\n",
      "  % freq, ValueWarning)\n",
      "C:\\Users\\joyle\\Anaconda3\\envs\\tensorflow\\lib\\site-packages\\statsmodels\\tsa\\base\\tsa_model.py:171: ValueWarning: No frequency information was provided, so inferred frequency D will be used.\n",
      "  % freq, ValueWarning)\n",
      "C:\\Users\\joyle\\Anaconda3\\envs\\tensorflow\\lib\\site-packages\\statsmodels\\tsa\\base\\tsa_model.py:171: ValueWarning: No frequency information was provided, so inferred frequency D will be used.\n",
      "  % freq, ValueWarning)\n",
      "C:\\Users\\joyle\\Anaconda3\\envs\\tensorflow\\lib\\site-packages\\statsmodels\\tsa\\base\\tsa_model.py:171: ValueWarning: No frequency information was provided, so inferred frequency D will be used.\n",
      "  % freq, ValueWarning)\n",
      "C:\\Users\\joyle\\Anaconda3\\envs\\tensorflow\\lib\\site-packages\\statsmodels\\tsa\\base\\tsa_model.py:171: ValueWarning: No frequency information was provided, so inferred frequency D will be used.\n",
      "  % freq, ValueWarning)\n",
      "C:\\Users\\joyle\\Anaconda3\\envs\\tensorflow\\lib\\site-packages\\statsmodels\\tsa\\base\\tsa_model.py:171: ValueWarning: No frequency information was provided, so inferred frequency D will be used.\n",
      "  % freq, ValueWarning)\n",
      "C:\\Users\\joyle\\Anaconda3\\envs\\tensorflow\\lib\\site-packages\\statsmodels\\tsa\\base\\tsa_model.py:171: ValueWarning: No frequency information was provided, so inferred frequency D will be used.\n",
      "  % freq, ValueWarning)\n",
      "C:\\Users\\joyle\\Anaconda3\\envs\\tensorflow\\lib\\site-packages\\statsmodels\\tsa\\base\\tsa_model.py:171: ValueWarning: No frequency information was provided, so inferred frequency D will be used.\n",
      "  % freq, ValueWarning)\n",
      "C:\\Users\\joyle\\Anaconda3\\envs\\tensorflow\\lib\\site-packages\\statsmodels\\tsa\\base\\tsa_model.py:171: ValueWarning: No frequency information was provided, so inferred frequency D will be used.\n",
      "  % freq, ValueWarning)\n",
      "C:\\Users\\joyle\\Anaconda3\\envs\\tensorflow\\lib\\site-packages\\statsmodels\\tsa\\base\\tsa_model.py:171: ValueWarning: No frequency information was provided, so inferred frequency D will be used.\n",
      "  % freq, ValueWarning)\n",
      "C:\\Users\\joyle\\Anaconda3\\envs\\tensorflow\\lib\\site-packages\\statsmodels\\base\\model.py:508: ConvergenceWarning: Maximum Likelihood optimization failed to converge. Check mle_retvals\n",
      "  \"Check mle_retvals\", ConvergenceWarning)\n",
      "C:\\Users\\joyle\\Anaconda3\\envs\\tensorflow\\lib\\site-packages\\statsmodels\\tsa\\base\\tsa_model.py:171: ValueWarning: No frequency information was provided, so inferred frequency D will be used.\n",
      "  % freq, ValueWarning)\n",
      "C:\\Users\\joyle\\Anaconda3\\envs\\tensorflow\\lib\\site-packages\\statsmodels\\tsa\\base\\tsa_model.py:171: ValueWarning: No frequency information was provided, so inferred frequency D will be used.\n",
      "  % freq, ValueWarning)\n",
      "C:\\Users\\joyle\\Anaconda3\\envs\\tensorflow\\lib\\site-packages\\statsmodels\\tsa\\base\\tsa_model.py:171: ValueWarning: No frequency information was provided, so inferred frequency D will be used.\n",
      "  % freq, ValueWarning)\n",
      "C:\\Users\\joyle\\Anaconda3\\envs\\tensorflow\\lib\\site-packages\\statsmodels\\tsa\\base\\tsa_model.py:171: ValueWarning: No frequency information was provided, so inferred frequency D will be used.\n",
      "  % freq, ValueWarning)\n",
      "C:\\Users\\joyle\\Anaconda3\\envs\\tensorflow\\lib\\site-packages\\statsmodels\\tsa\\base\\tsa_model.py:171: ValueWarning: No frequency information was provided, so inferred frequency D will be used.\n",
      "  % freq, ValueWarning)\n",
      "C:\\Users\\joyle\\Anaconda3\\envs\\tensorflow\\lib\\site-packages\\statsmodels\\tsa\\base\\tsa_model.py:171: ValueWarning: No frequency information was provided, so inferred frequency D will be used.\n",
      "  % freq, ValueWarning)\n",
      "C:\\Users\\joyle\\Anaconda3\\envs\\tensorflow\\lib\\site-packages\\statsmodels\\tsa\\base\\tsa_model.py:171: ValueWarning: No frequency information was provided, so inferred frequency D will be used.\n",
      "  % freq, ValueWarning)\n",
      "C:\\Users\\joyle\\Anaconda3\\envs\\tensorflow\\lib\\site-packages\\statsmodels\\tsa\\base\\tsa_model.py:171: ValueWarning: No frequency information was provided, so inferred frequency D will be used.\n",
      "  % freq, ValueWarning)\n",
      "C:\\Users\\joyle\\Anaconda3\\envs\\tensorflow\\lib\\site-packages\\statsmodels\\tsa\\base\\tsa_model.py:171: ValueWarning: No frequency information was provided, so inferred frequency D will be used.\n",
      "  % freq, ValueWarning)\n",
      "C:\\Users\\joyle\\Anaconda3\\envs\\tensorflow\\lib\\site-packages\\statsmodels\\tsa\\base\\tsa_model.py:171: ValueWarning: No frequency information was provided, so inferred frequency D will be used.\n",
      "  % freq, ValueWarning)\n",
      "C:\\Users\\joyle\\Anaconda3\\envs\\tensorflow\\lib\\site-packages\\statsmodels\\tsa\\base\\tsa_model.py:171: ValueWarning: No frequency information was provided, so inferred frequency D will be used.\n",
      "  % freq, ValueWarning)\n",
      "C:\\Users\\joyle\\Anaconda3\\envs\\tensorflow\\lib\\site-packages\\statsmodels\\base\\model.py:488: HessianInversionWarning: Inverting hessian failed, no bse or cov_params available\n",
      "  'available', HessianInversionWarning)\n",
      "C:\\Users\\joyle\\Anaconda3\\envs\\tensorflow\\lib\\site-packages\\statsmodels\\tsa\\base\\tsa_model.py:171: ValueWarning: No frequency information was provided, so inferred frequency D will be used.\n",
      "  % freq, ValueWarning)\n",
      "C:\\Users\\joyle\\Anaconda3\\envs\\tensorflow\\lib\\site-packages\\statsmodels\\tsa\\base\\tsa_model.py:171: ValueWarning: No frequency information was provided, so inferred frequency D will be used.\n",
      "  % freq, ValueWarning)\n",
      "C:\\Users\\joyle\\Anaconda3\\envs\\tensorflow\\lib\\site-packages\\statsmodels\\tsa\\base\\tsa_model.py:171: ValueWarning: No frequency information was provided, so inferred frequency D will be used.\n",
      "  % freq, ValueWarning)\n"
     ]
    },
    {
     "name": "stderr",
     "output_type": "stream",
     "text": [
      "C:\\Users\\joyle\\Anaconda3\\envs\\tensorflow\\lib\\site-packages\\statsmodels\\tsa\\base\\tsa_model.py:171: ValueWarning: No frequency information was provided, so inferred frequency D will be used.\n",
      "  % freq, ValueWarning)\n",
      "C:\\Users\\joyle\\Anaconda3\\envs\\tensorflow\\lib\\site-packages\\statsmodels\\tsa\\base\\tsa_model.py:171: ValueWarning: No frequency information was provided, so inferred frequency D will be used.\n",
      "  % freq, ValueWarning)\n",
      "C:\\Users\\joyle\\Anaconda3\\envs\\tensorflow\\lib\\site-packages\\statsmodels\\tsa\\base\\tsa_model.py:171: ValueWarning: No frequency information was provided, so inferred frequency D will be used.\n",
      "  % freq, ValueWarning)\n",
      "C:\\Users\\joyle\\Anaconda3\\envs\\tensorflow\\lib\\site-packages\\statsmodels\\tsa\\base\\tsa_model.py:171: ValueWarning: No frequency information was provided, so inferred frequency D will be used.\n",
      "  % freq, ValueWarning)\n",
      "C:\\Users\\joyle\\Anaconda3\\envs\\tensorflow\\lib\\site-packages\\statsmodels\\base\\model.py:488: HessianInversionWarning: Inverting hessian failed, no bse or cov_params available\n",
      "  'available', HessianInversionWarning)\n",
      "C:\\Users\\joyle\\Anaconda3\\envs\\tensorflow\\lib\\site-packages\\statsmodels\\base\\model.py:508: ConvergenceWarning: Maximum Likelihood optimization failed to converge. Check mle_retvals\n",
      "  \"Check mle_retvals\", ConvergenceWarning)\n",
      "C:\\Users\\joyle\\Anaconda3\\envs\\tensorflow\\lib\\site-packages\\statsmodels\\tsa\\base\\tsa_model.py:171: ValueWarning: No frequency information was provided, so inferred frequency D will be used.\n",
      "  % freq, ValueWarning)\n",
      "C:\\Users\\joyle\\Anaconda3\\envs\\tensorflow\\lib\\site-packages\\statsmodels\\base\\model.py:488: HessianInversionWarning: Inverting hessian failed, no bse or cov_params available\n",
      "  'available', HessianInversionWarning)\n"
     ]
    }
   ],
   "source": [
    "order = st.arma_order_select_ic(train,max_ar=5,max_ma=5,ic=['aic', 'bic', 'hqic'])"
   ]
  },
  {
   "cell_type": "code",
   "execution_count": 50,
   "metadata": {},
   "outputs": [
    {
     "name": "stdout",
     "output_type": "stream",
     "text": [
      "aic\n",
      "             0            1            2            3            4  \\\n",
      "0 -4967.217673 -6247.489279 -7125.505585 -7653.456238 -8016.251080   \n",
      "1 -9165.039077 -9164.116229 -9162.402994 -9160.417880 -9159.046352   \n",
      "2 -9164.151320 -9162.858597 -9160.967453 -9158.968931 -9156.987797   \n",
      "3 -9162.424547 -9160.822376 -9159.174724 -9157.491181 -9155.594868   \n",
      "4 -9160.440616 -9158.968345 -9157.483849 -9158.380115 -9159.742625   \n",
      "5 -9159.055605 -9157.392192 -9155.575677 -9157.673537 -9153.066376   \n",
      "\n",
      "             5  \n",
      "0 -8225.898099  \n",
      "1 -9157.228716  \n",
      "2 -9155.306839  \n",
      "3 -9153.563124  \n",
      "4 -9158.019810  \n",
      "5 -9150.998054  \n",
      "aic_min_order: (1, 0)\n",
      "--------------------------------------------------------------------\n",
      "bic\n",
      "             0            1            2            3            4  \\\n",
      "0 -4957.217004 -6232.488275 -7105.504247 -7628.454565 -7986.249074   \n",
      "1 -9150.038073 -9144.114891 -9137.401322 -9130.415873 -9124.044011   \n",
      "2 -9144.149982 -9137.856925 -9130.965447 -9123.966590 -9116.985121   \n",
      "3 -9137.422874 -9130.820369 -9124.172383 -9117.488506 -9110.591857   \n",
      "4 -9130.438609 -9123.966004 -9117.481173 -9113.377105 -9109.739280   \n",
      "5 -9124.053264 -9117.389516 -9110.572667 -9107.670192 -9098.062697   \n",
      "\n",
      "             5  \n",
      "0 -8190.895758  \n",
      "1 -9117.226040  \n",
      "2 -9110.303829  \n",
      "3 -9103.559780  \n",
      "4 -9103.016130  \n",
      "5 -9090.994040  \n",
      "bic_min_order: (1, 0)\n"
     ]
    }
   ],
   "source": [
    "print('aic')\n",
    "print(order['aic'])\n",
    "print('aic_min_order:',order['aic_min_order'])\n",
    "print('--------------------------------------------------------------------')\n",
    "print('bic')\n",
    "print(order['bic'])\n",
    "print('bic_min_order:',order['bic_min_order'])"
   ]
  },
  {
   "cell_type": "code",
   "execution_count": 5,
   "metadata": {},
   "outputs": [
    {
     "name": "stdout",
     "output_type": "stream",
     "text": [
      "0.0014882087707519531\n"
     ]
    },
    {
     "name": "stderr",
     "output_type": "stream",
     "text": [
      "C:\\Users\\joyle\\Anaconda3\\envs\\tensorflow\\lib\\site-packages\\statsmodels\\tsa\\base\\tsa_model.py:171: ValueWarning: No frequency information was provided, so inferred frequency D will be used.\n",
      "  % freq, ValueWarning)\n",
      "C:\\Users\\joyle\\Anaconda3\\envs\\tensorflow\\lib\\site-packages\\statsmodels\\tsa\\base\\tsa_model.py:171: ValueWarning: No frequency information was provided, so inferred frequency D will be used.\n",
      "  % freq, ValueWarning)\n"
     ]
    }
   ],
   "source": [
    "predict_data = model(train, (1,1,0))\n",
    "start = time.time()\n",
    "predicted_data = predict(last, predict_data)\n",
    "end = time.time()\n",
    "running_time = end-start\n",
    "print(running_time)"
   ]
  },
  {
   "cell_type": "code",
   "execution_count": 52,
   "metadata": {},
   "outputs": [],
   "source": [
    "RMSE = np.sqrt(((predicted_data-true)**2).sum()/true.size)\n",
    "MAPE = abs((true-predicted_data)/true).sum()/len(true)"
   ]
  },
  {
   "cell_type": "code",
   "execution_count": 53,
   "metadata": {},
   "outputs": [
    {
     "data": {
      "text/plain": [
       "0.010267818502686472"
      ]
     },
     "execution_count": 53,
     "metadata": {},
     "output_type": "execute_result"
    }
   ],
   "source": [
    "RMSE"
   ]
  },
  {
   "cell_type": "code",
   "execution_count": 54,
   "metadata": {},
   "outputs": [
    {
     "data": {
      "text/plain": [
       "0.012425530518492139"
      ]
     },
     "execution_count": 54,
     "metadata": {},
     "output_type": "execute_result"
    }
   ],
   "source": [
    "MAPE"
   ]
  },
  {
   "cell_type": "code",
   "execution_count": 55,
   "metadata": {},
   "outputs": [
    {
     "data": {
      "image/png": "[encoded data removed]",
      "text/plain": [
       "<matplotlib.figure.Figure at 0x26d5ac25d30>"
      ]
     },
     "metadata": {},
     "output_type": "display_data"
    }
   ],
   "source": [
    "plot_data(true , predicted_data)"
   ]
  },
  {
   "cell_type": "code",
   "execution_count": null,
   "metadata": {},
   "outputs": [],
   "source": []
  }
 ],
 "metadata": {
  "kernelspec": {
   "display_name": "Python 3",
   "language": "python",
   "name": "python3"
  },
  "language_info": {
   "codemirror_mode": {
    "name": "ipython",
    "version": 3
   },
   "file_extension": ".py",
   "mimetype": "text/x-python",
   "name": "python",
   "nbconvert_exporter": "python",
   "pygments_lexer": "ipython3",
   "version": "3.5.4"
  }
 },
 "nbformat": 4,
 "nbformat_minor": 2
}
